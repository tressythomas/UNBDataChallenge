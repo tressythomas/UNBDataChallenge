{
 "cells": [
  {
   "cell_type": "markdown",
   "id": "confident-algorithm",
   "metadata": {},
   "source": [
    "\n",
    "# <center> <span style=\"color:darkgreen\">TEAM ZOOM </center> </span>\n",
    "### <center> <span style=\"color:darkorange\">UNB Data Challenge: Analytics</center> </span>\n",
    "#### \n",
    "#### \n",
    "#### \n",
    "\n",
    "#### <span style=\"color:darkgreen\"> Dataset: CPSS 4: INFORMATION SOURCES CONSULTED DURING THE PANDEMIC (2020 July 20-26) </span>\n",
    "#### \n",
    "####   \n",
    "#### <div style=\"text-align: right\"> <span style=\"color:darkgreen\">   Jophy Joy + Tressy Thomas </div> </span>\n",
    "#### <div style=\"text-align: right\"> <span style=\"color:darkgreen\"> 12 March 2021</div> </span>\n",
    "#### \n",
    "#### \n"
   ]
  },
  {
   "cell_type": "markdown",
   "id": "developmental-leeds",
   "metadata": {},
   "source": [
    "## <center><span style=\"color:darkorange\">   OBJECTIVE </center> </span>\n",
    "# \n",
    "### <span style=\"color:darkorange\"> Derive insights on:  </span>\n",
    "# \n",
    " \n",
    "   ### <span style=\"color:darkgreen\"> 1.  The impact of source of information on the precautions taken to reduce risk and what are the most trusted online information source among Canadians ? </span>\n",
    "   # \n",
    "   ### <span style=\"color:darkgreen\">2. The mental health of Canadians based on Socio-economic status during the pandemic  </span>\n",
    "   # \n",
    "   ### <span style=\"color:darkgreen\">3. What is the impact of education level on keeping Canadians employed during pandemic? </span>\n",
    "    \n",
    "#   \n",
    "#  \n",
    "#   \n",
    "# "
   ]
  },
  {
   "cell_type": "markdown",
   "id": "deadly-acrylic",
   "metadata": {},
   "source": [
    "## <center><span style=\"color:darkorange\">   MOTIVATION </center> </span>\n",
    "\n",
    "\n",
    "### <span style=\"color:darkgreen\"> 1. Health care system in Canada is overloaded with Corona cases and using most effective sources of information in reducing the amplitude of further contagon is now important than ever. </span>\n",
    "# \n",
    "### <span style=\"color:darkgreen\"> 2. The mental strain caused by the pandemic is significant among canadians </span>\n",
    "<span style=\"color:darkorange\"> source:CAMH Policy Advice July 2020. </span>\n",
    "### <span style=\"color:darkgreen\"> Investigating on how the mental health and habits on SEC can contribute information on the area to focus to improve mental wellbeing of Canadians.</span>\n",
    "# \n",
    "### <span style=\"color:darkgreen\"> 3. As soon to be graduates, we were curious to know if there was any link between educational level and employment status during tough times!</span>\n",
    "#  \n",
    "#   \n",
    "#   "
   ]
  },
  {
   "cell_type": "code",
   "execution_count": 1,
   "id": "traditional-cambodia",
   "metadata": {
    "collapsed": true
   },
   "outputs": [
    {
     "name": "stderr",
     "output_type": "stream",
     "text": [
      "Warning message:\n",
      "\"package 'survey' was built under R version 3.6.3\"Loading required package: grid\n",
      "Loading required package: Matrix\n",
      "Loading required package: survival\n",
      "\n",
      "Attaching package: 'survey'\n",
      "\n",
      "The following object is masked from 'package:graphics':\n",
      "\n",
      "    dotchart\n",
      "\n",
      "\n",
      "Attaching package: 'dplyr'\n",
      "\n",
      "The following objects are masked from 'package:stats':\n",
      "\n",
      "    filter, lag\n",
      "\n",
      "The following objects are masked from 'package:base':\n",
      "\n",
      "    intersect, setdiff, setequal, union\n",
      "\n",
      "Registered S3 methods overwritten by 'ggplot2':\n",
      "  method         from \n",
      "  [.quosures     rlang\n",
      "  c.quosures     rlang\n",
      "  print.quosures rlang\n",
      "\n",
      "Attaching package: 'data.table'\n",
      "\n",
      "The following objects are masked from 'package:dplyr':\n",
      "\n",
      "    between, first, last\n",
      "\n"
     ]
    },
    {
     "data": {
      "text/html": [
       "<table>\n",
       "<thead><tr><th scope=col>CASEID</th><th scope=col>agegrp</th><th scope=col>anxdvgac</th><th scope=col>anxdvgad</th><th scope=col>anxdvsev</th><th scope=col>hhldsizc</th><th scope=col>immigrnc</th><th scope=col>marstatc</th><th scope=col>mhdvmhi</th><th scope=col>pchild</th><th scope=col>...</th><th scope=col>fc_20a</th><th scope=col>fc_20b</th><th scope=col>fc_20ce</th><th scope=col>fc_20d</th><th scope=col>fc_20f</th><th scope=col>fc_20g</th><th scope=col>fc_25</th><th scope=col>fc_30</th><th scope=col>fc_35</th><th scope=col>pempstc</th></tr></thead>\n",
       "<tbody>\n",
       "\t<tr><td>6032</td><td>5   </td><td>2   </td><td> 7  </td><td>2   </td><td>2   </td><td>1   </td><td>2   </td><td>3   </td><td>0   </td><td>... </td><td>6   </td><td>6   </td><td>6   </td><td>6   </td><td>6   </td><td>6   </td><td>3   </td><td>2   </td><td>4   </td><td>4   </td></tr>\n",
       "\t<tr><td>6033</td><td>2   </td><td>1   </td><td>16  </td><td>4   </td><td>2   </td><td>1   </td><td>1   </td><td>1   </td><td>1   </td><td>... </td><td>6   </td><td>6   </td><td>6   </td><td>6   </td><td>6   </td><td>6   </td><td>3   </td><td>2   </td><td>5   </td><td>2   </td></tr>\n",
       "\t<tr><td>6034</td><td>4   </td><td>2   </td><td> 2  </td><td>1   </td><td>2   </td><td>1   </td><td>2   </td><td>3   </td><td>1   </td><td>... </td><td>6   </td><td>6   </td><td>6   </td><td>6   </td><td>6   </td><td>6   </td><td>6   </td><td>6   </td><td>6   </td><td>1   </td></tr>\n",
       "\t<tr><td>6035</td><td>2   </td><td>2   </td><td> 6  </td><td>2   </td><td>1   </td><td>1   </td><td>4   </td><td>2   </td><td>0   </td><td>... </td><td>6   </td><td>6   </td><td>6   </td><td>6   </td><td>6   </td><td>6   </td><td>3   </td><td>2   </td><td>3   </td><td>4   </td></tr>\n",
       "\t<tr><td>6036</td><td>6   </td><td>2   </td><td> 2  </td><td>1   </td><td>2   </td><td>1   </td><td>1   </td><td>3   </td><td>0   </td><td>... </td><td>6   </td><td>6   </td><td>6   </td><td>6   </td><td>6   </td><td>6   </td><td>6   </td><td>6   </td><td>6   </td><td>1   </td></tr>\n",
       "\t<tr><td>6037</td><td>7   </td><td>1   </td><td>12  </td><td>3   </td><td>2   </td><td>1   </td><td>1   </td><td>1   </td><td>0   </td><td>... </td><td>2   </td><td>2   </td><td>2   </td><td>1   </td><td>2   </td><td>2   </td><td>1   </td><td>2   </td><td>5   </td><td>4   </td></tr>\n",
       "</tbody>\n",
       "</table>\n"
      ],
      "text/latex": [
       "\\begin{tabular}{r|lllllllllllllllllllllllllllllllllllllllllllllllllllllllllllllllllllllllllllllllllllllllllllllllllllllll}\n",
       " CASEID & agegrp & anxdvgac & anxdvgad & anxdvsev & hhldsizc & immigrnc & marstatc & mhdvmhi & pchild & ... & fc\\_20a & fc\\_20b & fc\\_20ce & fc\\_20d & fc\\_20f & fc\\_20g & fc\\_25 & fc\\_30 & fc\\_35 & pempstc\\\\\n",
       "\\hline\n",
       "\t 6032 & 5    & 2    &  7   & 2    & 2    & 1    & 2    & 3    & 0    & ...  & 6    & 6    & 6    & 6    & 6    & 6    & 3    & 2    & 4    & 4   \\\\\n",
       "\t 6033 & 2    & 1    & 16   & 4    & 2    & 1    & 1    & 1    & 1    & ...  & 6    & 6    & 6    & 6    & 6    & 6    & 3    & 2    & 5    & 2   \\\\\n",
       "\t 6034 & 4    & 2    &  2   & 1    & 2    & 1    & 2    & 3    & 1    & ...  & 6    & 6    & 6    & 6    & 6    & 6    & 6    & 6    & 6    & 1   \\\\\n",
       "\t 6035 & 2    & 2    &  6   & 2    & 1    & 1    & 4    & 2    & 0    & ...  & 6    & 6    & 6    & 6    & 6    & 6    & 3    & 2    & 3    & 4   \\\\\n",
       "\t 6036 & 6    & 2    &  2   & 1    & 2    & 1    & 1    & 3    & 0    & ...  & 6    & 6    & 6    & 6    & 6    & 6    & 6    & 6    & 6    & 1   \\\\\n",
       "\t 6037 & 7    & 1    & 12   & 3    & 2    & 1    & 1    & 1    & 0    & ...  & 2    & 2    & 2    & 1    & 2    & 2    & 1    & 2    & 5    & 4   \\\\\n",
       "\\end{tabular}\n"
      ],
      "text/markdown": [
       "\n",
       "| CASEID | agegrp | anxdvgac | anxdvgad | anxdvsev | hhldsizc | immigrnc | marstatc | mhdvmhi | pchild | ... | fc_20a | fc_20b | fc_20ce | fc_20d | fc_20f | fc_20g | fc_25 | fc_30 | fc_35 | pempstc |\n",
       "|---|---|---|---|---|---|---|---|---|---|---|---|---|---|---|---|---|---|---|---|---|\n",
       "| 6032 | 5    | 2    |  7   | 2    | 2    | 1    | 2    | 3    | 0    | ...  | 6    | 6    | 6    | 6    | 6    | 6    | 3    | 2    | 4    | 4    |\n",
       "| 6033 | 2    | 1    | 16   | 4    | 2    | 1    | 1    | 1    | 1    | ...  | 6    | 6    | 6    | 6    | 6    | 6    | 3    | 2    | 5    | 2    |\n",
       "| 6034 | 4    | 2    |  2   | 1    | 2    | 1    | 2    | 3    | 1    | ...  | 6    | 6    | 6    | 6    | 6    | 6    | 6    | 6    | 6    | 1    |\n",
       "| 6035 | 2    | 2    |  6   | 2    | 1    | 1    | 4    | 2    | 0    | ...  | 6    | 6    | 6    | 6    | 6    | 6    | 3    | 2    | 3    | 4    |\n",
       "| 6036 | 6    | 2    |  2   | 1    | 2    | 1    | 1    | 3    | 0    | ...  | 6    | 6    | 6    | 6    | 6    | 6    | 6    | 6    | 6    | 1    |\n",
       "| 6037 | 7    | 1    | 12   | 3    | 2    | 1    | 1    | 1    | 0    | ...  | 2    | 2    | 2    | 1    | 2    | 2    | 1    | 2    | 5    | 4    |\n",
       "\n"
      ],
      "text/plain": [
       "  CASEID agegrp anxdvgac anxdvgad anxdvsev hhldsizc immigrnc marstatc mhdvmhi\n",
       "1 6032   5      2         7       2        2        1        2        3      \n",
       "2 6033   2      1        16       4        2        1        1        1      \n",
       "3 6034   4      2         2       1        2        1        2        3      \n",
       "4 6035   2      2         6       2        1        1        4        2      \n",
       "5 6036   6      2         2       1        2        1        1        3      \n",
       "6 6037   7      1        12       3        2        1        1        1      \n",
       "  pchild ... fc_20a fc_20b fc_20ce fc_20d fc_20f fc_20g fc_25 fc_30 fc_35\n",
       "1 0      ... 6      6      6       6      6      6      3     2     4    \n",
       "2 1      ... 6      6      6       6      6      6      3     2     5    \n",
       "3 1      ... 6      6      6       6      6      6      6     6     6    \n",
       "4 0      ... 6      6      6       6      6      6      3     2     3    \n",
       "5 0      ... 6      6      6       6      6      6      6     6     6    \n",
       "6 0      ... 2      2      2       1      2      2      1     2     5    \n",
       "  pempstc\n",
       "1 4      \n",
       "2 2      \n",
       "3 1      \n",
       "4 4      \n",
       "5 1      \n",
       "6 4      "
      ]
     },
     "metadata": {},
     "output_type": "display_data"
    },
    {
     "name": "stdout",
     "output_type": "stream",
     "text": [
      "The dimension of the dataset 4218 103 ; and the number of Missing Values is  0"
     ]
    }
   ],
   "source": [
    "#Load libraries and read dataset\n",
    "options(pen=999)\n",
    "library(survey)\n",
    "library(dplyr)\n",
    "library(ggplot2)\n",
    "library(data.table)\n",
    "#Read Survey data and get dimension and missing values\n",
    "raw=read.csv(\"C:\\\\Users\\\\Tress\\\\OneDrive\\\\Desktop\\\\Learn\\\\Data Challenge\\\\Rawds.csv\",header=TRUE,sep=',',na.strings=c(\"\",\"N/A\",\" \",\"NA\",'NULL'))\n",
    "head(raw)\n",
    "cat(\"The dimension of the dataset\",dim(raw),\"; and the number of Missing Values is \", sum(is.na(raw)))"
   ]
  },
  {
   "cell_type": "markdown",
   "id": "lesbian-omega",
   "metadata": {},
   "source": [
    "\n",
    "## <center><span style=\"color:darkorange\">   Dataset Overview: The survey data says... </center> </span>\n",
    " \n",
    "### <span style=\"color:darkgreen\"> Over 60 % consulted Online newspaper / news sites for Covid Info. </span>\n",
    "\n",
    "### <span style=\"color:darkgreen\"> Most canadians are serious about the credibility of online information. 71% did some validations. 51% did it often or always. ( ... and more than half did double check!.) </span>\n",
    "\n",
    "### <span style=\"color:darkgreen\"> Over 90% took precautions by washing hands, using physical distancing and avoiding crowds. </span>\n",
    "\n",
    "### <span style=\"color:darkgreen\"> More than their own health, Canadians are concerned about others health, and overburdening health system. </span>\n",
    "\n",
    "### <span style=\"color:darkgreen\">  Less than 10% are worried about violence at home. </span>\n",
    "\n",
    "### <span style=\"color:darkgreen\"> Spending time on internet and watching television are the most increased habits during the week. </span>\n",
    " \n",
    "### <span style=\"color:darkgreen\"> Close to 90% of canadians went to shopping atleast once during the week.</span>\n",
    "#  \n",
    "\n",
    "    "
   ]
  },
  {
   "cell_type": "code",
   "execution_count": 2,
   "id": "adult-grove",
   "metadata": {},
   "outputs": [],
   "source": [
    "#Function to create data for analysis \n",
    "proportions <- function(check_val='Infosources'){\n",
    "  #print(check_val)\n",
    "  switch(check_val,\n",
    "         Infosources = {\n",
    "           analysis_data_infosource=raw %>%\n",
    "             select(pers_wgt,fc_05a,\tfc_05b,\tfc_05c,\tfc_05d,\tfc_05e,\tfc_05f,\tfc_05g,\tfc_05h,\tfc_05i,\tfc_05j,\tfc_05k,\tfc_05l) \n",
    "           col_names=c(\"pers_wgt\",\n",
    "                       \"Social media posts from users/influencers\",\n",
    "                       \"Social media posts from news orgs, magazines\",\n",
    "                       \"Online newspapers or news sites\",\n",
    "                       \"Online magazine on current events\",\n",
    "                       \"Online forums\",\n",
    "                       \"Online encyclopedia or repository\",\n",
    "                       \"Blogs\",\n",
    "                       \"Podcasts\",\n",
    "                       \"Online video sharing platforms\",\n",
    "                       \"Email from a friend or family\",\n",
    "                       \"Other\",\n",
    "                       \"Did not use Internet to find info on COVID-19\")\n",
    "           rel_fields=c(1)\n",
    "           \n",
    "         },\n",
    "         Accuracy_check = {\n",
    "           analysis_data_infosource=raw %>%\n",
    "             select(pers_wgt,fc_15a,\tfc_15b,\tfc_15c,\tfc_15d,\tfc_15e,\tfc_15f,\tfc_15g,\tfc_15h)\n",
    "           col_names=c(\"pers_wgt\",\n",
    "                       \"Searched author/source for credibility\",\n",
    "                       \"Consulted other sources\",\n",
    "                       \"Clicked on the link to read the entire news article\",\n",
    "                       \"Verified URL for credibility\",\n",
    "                       \"Verified the date of the information\",\n",
    "                       \"Read comments to see discussion on the topic/source\",\n",
    "                       \"Consulted friends, family, online network\",\n",
    "                       \"Other\"\n",
    "           )\n",
    "           rel_fields=c(1)\n",
    "         },\n",
    "         Precautions = {\n",
    "           analysis_data_infosource=raw %>%\n",
    "             select(pers_wgt,bh_20a,\tbh_20b,\tbh_20c,\tbh_20d,\tbh_20e,\tbh_20f,\tbh_20g,\tbh_20h,\tbh_20i,\tbh_20j,\tbh_20k,\tbh_20l,\tbh_20m,\tbh_20n,\tbh_20o)\n",
    "           col_names=c(\"pers_wgt\",\n",
    "                       \"Stocked up on essentials\",\n",
    "                       \"Filled prescriptions\",\n",
    "                       \"Made a plan for sick hhld members\",\n",
    "                       \"Made a plan other non-hhld memb\",\n",
    "                       \"Made a plan communicate\",\n",
    "                       \"Avoided leaving the house\",\n",
    "                       \"Used physical distancing in public\",\n",
    "                       \"Avoided crowds and large gathering\",\n",
    "                       \"Washed your hands more regularly\",\n",
    "                       \"Avoided touching your face\",\n",
    "                       \"Cancelled travel\",\n",
    "                       \"Worked from home\",\n",
    "                       \"Wore mask/other p.p.e\",\n",
    "                       \"Other\",\n",
    "                       \"None\"\n",
    "                       \n",
    "           )\n",
    "           rel_fields=c(1)\n",
    "         },\n",
    "         Concern = {\n",
    "           analysis_data_infosource=raw %>%\n",
    "             select(pers_wgt,bh_55a,\tbh_55b,\tbh_55c,\tbh_55d,\tbh_55e,\tbh_55f,\tbh_55g,\tbh_55h,\tbh_55i,\tbh_55j,\tbh_55k,\tbh_55l)\n",
    "           col_names=c(\"pers_wgt\",\n",
    "                       \"My own health\",\n",
    "                       \"Member of household’s health\",\n",
    "                       \"Vulnerable people’s health\",\n",
    "                       \"Canadian population’s health\",\n",
    "                       \"World population’s health\",\n",
    "                       \"Overloading the health system\",\n",
    "                       \"Civil disorder\",\n",
    "                       \"Maintaining social ties\",\n",
    "                       \"Ability to support in crisis\",\n",
    "                       \"Ability to support post-crisis\",\n",
    "                       \"Family stress from confinement\",\n",
    "                       \"Violence in the home\")\n",
    "           rel_fields=c(2,3,4)\n",
    "         },\n",
    "         Activities= {\n",
    "           analysis_data_infosource=raw %>%\n",
    "             select(pers_wgt,bh_35a,\tbh_35b,\tbh_35c,\tbh_35d,\tbh_35e)\n",
    "           col_names=c(\"pers_wgt\",\n",
    "                       \"Communication with friends and family\",\n",
    "                       \"Meditation\",\n",
    "                       \"Exercise outdoors\",\n",
    "                       \"Exercise indoors\",\n",
    "                       \"Changing my food choices\")\n",
    "           rel_fields=c(1,2,3)\n",
    "         },\n",
    "         Habits = {\n",
    "           analysis_data_infosource=raw %>%\n",
    "             select(pers_wgt,bh_40a,bh_40b,bh_40c,\tbh_40d,\tbh_40e,\tbh_40f,\tbh_40g,\tbh_40h)\n",
    "           col_names=c(\"pers_wgt\",\n",
    "                       \"Consuming alcohol\",\n",
    "                       \"Using tobacco products\",\n",
    "                       \"Consuming cannabis\",\n",
    "                       \"Eating junk food or sweets\",\n",
    "                       \"Watching television\",\n",
    "                       \"Spending time on the internet\",\n",
    "                       \"Playing video games\",\n",
    "                       \"Playing board games\")\n",
    "           rel_fields=c(1)\n",
    "         },\n",
    "         Lastweek= {\n",
    "           analysis_data_infosource=raw %>%\n",
    "             select(pers_wgt,bh_60a,bh_60b,\tbh_60c)\n",
    "           col_names=c(\"pers_wgt\",\n",
    "                       \"Went shopping at the grocery store or drugstore\",\n",
    "                       \"Used delivery service for groceries or drugstore\",\n",
    "                       \"Used a food delivery service for prepared food\"\n",
    "           )\n",
    "           rel_fields=c(1,2,3)\n",
    "         }\n",
    "         \n",
    "  )\n",
    "  colnames(analysis_data_infosource)=col_names\n",
    "  tot_pers_wgt=sum(analysis_data_infosource$pers_wgt)\n",
    "  prop=apply(analysis_data_infosource,2,function(x) round(100*sum(analysis_data_infosource$pers_wgt[x%in%rel_fields])/tot_pers_wgt,1))\n",
    "  #n1=apply(analysis_data_infosource,2,function(x) nrow(analysis_data_infosource[x==1,]))\n",
    "  #nall=nrow(analysis_data_infosource)\n",
    "  proportion=t(t(prop))\n",
    "  tmp=data.frame(proportion,Indicator=rownames(proportion),row.names=NULL)[-1,] \n",
    "  tmp$Indicator=factor(tmp$Indicator,levels=tmp$Indicator)\n",
    "  tmp=tmp%>% arrange(desc(proportion))\n",
    "  #print(tmp)\n",
    "  return(tmp)\n",
    "\n",
    "  \n",
    "}"
   ]
  },
  {
   "cell_type": "code",
   "execution_count": 3,
   "id": "ordinary-blanket",
   "metadata": {
    "collapsed": true
   },
   "outputs": [
    {
     "data": {
      "text/html": [
       "<table>\n",
       "<thead><tr><th scope=col>proportion</th><th scope=col>Indicator</th></tr></thead>\n",
       "<tbody>\n",
       "\t<tr><td>61.0                                         </td><td>Online newspapers or news sites              </td></tr>\n",
       "\t<tr><td>34.4                                         </td><td>Social media posts from news orgs, magazines </td></tr>\n",
       "\t<tr><td>29.4                                         </td><td>Social media posts from users/influencers    </td></tr>\n",
       "\t<tr><td> 9.8                                         </td><td>Did not use Internet to find info on COVID-19</td></tr>\n",
       "\t<tr><td> 8.5                                         </td><td>Online magazine on current events            </td></tr>\n",
       "\t<tr><td> 8.5                                         </td><td>Online video sharing platforms               </td></tr>\n",
       "\t<tr><td> 6.1                                         </td><td>Other                                        </td></tr>\n",
       "\t<tr><td> 5.0                                         </td><td>Online forums                                </td></tr>\n",
       "\t<tr><td> 4.9                                         </td><td>Email from a friend or family                </td></tr>\n",
       "\t<tr><td> 3.7                                         </td><td>Online encyclopedia or repository            </td></tr>\n",
       "\t<tr><td> 3.5                                         </td><td>Podcasts                                     </td></tr>\n",
       "\t<tr><td> 1.3                                         </td><td>Blogs                                        </td></tr>\n",
       "</tbody>\n",
       "</table>\n"
      ],
      "text/latex": [
       "\\begin{tabular}{r|ll}\n",
       " proportion & Indicator\\\\\n",
       "\\hline\n",
       "\t 61.0                                          & Online newspapers or news sites              \\\\\n",
       "\t 34.4                                          & Social media posts from news orgs, magazines \\\\\n",
       "\t 29.4                                          & Social media posts from users/influencers    \\\\\n",
       "\t  9.8                                          & Did not use Internet to find info on COVID-19\\\\\n",
       "\t  8.5                                          & Online magazine on current events            \\\\\n",
       "\t  8.5                                          & Online video sharing platforms               \\\\\n",
       "\t  6.1                                          & Other                                        \\\\\n",
       "\t  5.0                                          & Online forums                                \\\\\n",
       "\t  4.9                                          & Email from a friend or family                \\\\\n",
       "\t  3.7                                          & Online encyclopedia or repository            \\\\\n",
       "\t  3.5                                          & Podcasts                                     \\\\\n",
       "\t  1.3                                          & Blogs                                        \\\\\n",
       "\\end{tabular}\n"
      ],
      "text/markdown": [
       "\n",
       "| proportion | Indicator |\n",
       "|---|---|\n",
       "| 61.0                                          | Online newspapers or news sites               |\n",
       "| 34.4                                          | Social media posts from news orgs, magazines  |\n",
       "| 29.4                                          | Social media posts from users/influencers     |\n",
       "|  9.8                                          | Did not use Internet to find info on COVID-19 |\n",
       "|  8.5                                          | Online magazine on current events             |\n",
       "|  8.5                                          | Online video sharing platforms                |\n",
       "|  6.1                                          | Other                                         |\n",
       "|  5.0                                          | Online forums                                 |\n",
       "|  4.9                                          | Email from a friend or family                 |\n",
       "|  3.7                                          | Online encyclopedia or repository             |\n",
       "|  3.5                                          | Podcasts                                      |\n",
       "|  1.3                                          | Blogs                                         |\n",
       "\n"
      ],
      "text/plain": [
       "   proportion Indicator                                    \n",
       "1  61.0       Online newspapers or news sites              \n",
       "2  34.4       Social media posts from news orgs, magazines \n",
       "3  29.4       Social media posts from users/influencers    \n",
       "4   9.8       Did not use Internet to find info on COVID-19\n",
       "5   8.5       Online magazine on current events            \n",
       "6   8.5       Online video sharing platforms               \n",
       "7   6.1       Other                                        \n",
       "8   5.0       Online forums                                \n",
       "9   4.9       Email from a friend or family                \n",
       "10  3.7       Online encyclopedia or repository            \n",
       "11  3.5       Podcasts                                     \n",
       "12  1.3       Blogs                                        "
      ]
     },
     "metadata": {},
     "output_type": "display_data"
    }
   ],
   "source": [
    "#COVID info sources\n",
    "proportions('Infosources') "
   ]
  },
  {
   "cell_type": "code",
   "execution_count": 4,
   "id": "flexible-liechtenstein",
   "metadata": {
    "collapsed": true
   },
   "outputs": [
    {
     "data": {
      "text/html": [
       "<table>\n",
       "<thead><tr><th scope=col>proportion</th><th scope=col>Indicator</th></tr></thead>\n",
       "<tbody>\n",
       "\t<tr><td>56.5                                               </td><td>Consulted other sources                            </td></tr>\n",
       "\t<tr><td>43.4                                               </td><td>Clicked on the link to read the entire news article</td></tr>\n",
       "\t<tr><td>23.6                                               </td><td>Verified the date of the information               </td></tr>\n",
       "\t<tr><td>22.1                                               </td><td>Searched author/source for credibility             </td></tr>\n",
       "\t<tr><td>21.4                                               </td><td>Read comments to see discussion on the topic/source</td></tr>\n",
       "\t<tr><td>18.0                                               </td><td>Consulted friends, family, online network          </td></tr>\n",
       "\t<tr><td>16.1                                               </td><td>Verified URL for credibility                       </td></tr>\n",
       "\t<tr><td> 4.8                                               </td><td>Other                                              </td></tr>\n",
       "</tbody>\n",
       "</table>\n"
      ],
      "text/latex": [
       "\\begin{tabular}{r|ll}\n",
       " proportion & Indicator\\\\\n",
       "\\hline\n",
       "\t 56.5                                                & Consulted other sources                            \\\\\n",
       "\t 43.4                                                & Clicked on the link to read the entire news article\\\\\n",
       "\t 23.6                                                & Verified the date of the information               \\\\\n",
       "\t 22.1                                                & Searched author/source for credibility             \\\\\n",
       "\t 21.4                                                & Read comments to see discussion on the topic/source\\\\\n",
       "\t 18.0                                                & Consulted friends, family, online network          \\\\\n",
       "\t 16.1                                                & Verified URL for credibility                       \\\\\n",
       "\t  4.8                                                & Other                                              \\\\\n",
       "\\end{tabular}\n"
      ],
      "text/markdown": [
       "\n",
       "| proportion | Indicator |\n",
       "|---|---|\n",
       "| 56.5                                                | Consulted other sources                             |\n",
       "| 43.4                                                | Clicked on the link to read the entire news article |\n",
       "| 23.6                                                | Verified the date of the information                |\n",
       "| 22.1                                                | Searched author/source for credibility              |\n",
       "| 21.4                                                | Read comments to see discussion on the topic/source |\n",
       "| 18.0                                                | Consulted friends, family, online network           |\n",
       "| 16.1                                                | Verified URL for credibility                        |\n",
       "|  4.8                                                | Other                                               |\n",
       "\n"
      ],
      "text/plain": [
       "  proportion Indicator                                          \n",
       "1 56.5       Consulted other sources                            \n",
       "2 43.4       Clicked on the link to read the entire news article\n",
       "3 23.6       Verified the date of the information               \n",
       "4 22.1       Searched author/source for credibility             \n",
       "5 21.4       Read comments to see discussion on the topic/source\n",
       "6 18.0       Consulted friends, family, online network          \n",
       "7 16.1       Verified URL for credibility                       \n",
       "8  4.8       Other                                              "
      ]
     },
     "metadata": {},
     "output_type": "display_data"
    }
   ],
   "source": [
    "proportions('Accuracy_check')"
   ]
  },
  {
   "cell_type": "code",
   "execution_count": 5,
   "id": "functional-pride",
   "metadata": {
    "collapsed": true
   },
   "outputs": [
    {
     "data": {
      "text/html": [
       "<table>\n",
       "<thead><tr><th scope=col>proportion</th><th scope=col>Indicator</th></tr></thead>\n",
       "<tbody>\n",
       "\t<tr><td>92.6                              </td><td>Washed your hands more regularly  </td></tr>\n",
       "\t<tr><td>89.7                              </td><td>Used physical distancing in public</td></tr>\n",
       "\t<tr><td>89.2                              </td><td>Avoided crowds and large gathering</td></tr>\n",
       "\t<tr><td>84.3                              </td><td>None                              </td></tr>\n",
       "\t<tr><td>74.0                              </td><td>Avoided leaving the house         </td></tr>\n",
       "\t<tr><td>66.0                              </td><td>Avoided touching your face        </td></tr>\n",
       "\t<tr><td>46.6                              </td><td>Stocked up on essentials          </td></tr>\n",
       "\t<tr><td>46.1                              </td><td>Cancelled travel                  </td></tr>\n",
       "\t<tr><td>29.5                              </td><td>Made a plan communicate           </td></tr>\n",
       "\t<tr><td>27.4                              </td><td>Worked from home                  </td></tr>\n",
       "\t<tr><td>27.0                              </td><td>Filled prescriptions              </td></tr>\n",
       "\t<tr><td>12.0                              </td><td>Made a plan other non-hhld memb   </td></tr>\n",
       "\t<tr><td>11.8                              </td><td>Made a plan for sick hhld members </td></tr>\n",
       "\t<tr><td> 1.7                              </td><td>Wore mask/other p.p.e             </td></tr>\n",
       "\t<tr><td> 0.9                              </td><td>Other                             </td></tr>\n",
       "</tbody>\n",
       "</table>\n"
      ],
      "text/latex": [
       "\\begin{tabular}{r|ll}\n",
       " proportion & Indicator\\\\\n",
       "\\hline\n",
       "\t 92.6                               & Washed your hands more regularly  \\\\\n",
       "\t 89.7                               & Used physical distancing in public\\\\\n",
       "\t 89.2                               & Avoided crowds and large gathering\\\\\n",
       "\t 84.3                               & None                              \\\\\n",
       "\t 74.0                               & Avoided leaving the house         \\\\\n",
       "\t 66.0                               & Avoided touching your face        \\\\\n",
       "\t 46.6                               & Stocked up on essentials          \\\\\n",
       "\t 46.1                               & Cancelled travel                  \\\\\n",
       "\t 29.5                               & Made a plan communicate           \\\\\n",
       "\t 27.4                               & Worked from home                  \\\\\n",
       "\t 27.0                               & Filled prescriptions              \\\\\n",
       "\t 12.0                               & Made a plan other non-hhld memb   \\\\\n",
       "\t 11.8                               & Made a plan for sick hhld members \\\\\n",
       "\t  1.7                               & Wore mask/other p.p.e             \\\\\n",
       "\t  0.9                               & Other                             \\\\\n",
       "\\end{tabular}\n"
      ],
      "text/markdown": [
       "\n",
       "| proportion | Indicator |\n",
       "|---|---|\n",
       "| 92.6                               | Washed your hands more regularly   |\n",
       "| 89.7                               | Used physical distancing in public |\n",
       "| 89.2                               | Avoided crowds and large gathering |\n",
       "| 84.3                               | None                               |\n",
       "| 74.0                               | Avoided leaving the house          |\n",
       "| 66.0                               | Avoided touching your face         |\n",
       "| 46.6                               | Stocked up on essentials           |\n",
       "| 46.1                               | Cancelled travel                   |\n",
       "| 29.5                               | Made a plan communicate            |\n",
       "| 27.4                               | Worked from home                   |\n",
       "| 27.0                               | Filled prescriptions               |\n",
       "| 12.0                               | Made a plan other non-hhld memb    |\n",
       "| 11.8                               | Made a plan for sick hhld members  |\n",
       "|  1.7                               | Wore mask/other p.p.e              |\n",
       "|  0.9                               | Other                              |\n",
       "\n"
      ],
      "text/plain": [
       "   proportion Indicator                         \n",
       "1  92.6       Washed your hands more regularly  \n",
       "2  89.7       Used physical distancing in public\n",
       "3  89.2       Avoided crowds and large gathering\n",
       "4  84.3       None                              \n",
       "5  74.0       Avoided leaving the house         \n",
       "6  66.0       Avoided touching your face        \n",
       "7  46.6       Stocked up on essentials          \n",
       "8  46.1       Cancelled travel                  \n",
       "9  29.5       Made a plan communicate           \n",
       "10 27.4       Worked from home                  \n",
       "11 27.0       Filled prescriptions              \n",
       "12 12.0       Made a plan other non-hhld memb   \n",
       "13 11.8       Made a plan for sick hhld members \n",
       "14  1.7       Wore mask/other p.p.e             \n",
       "15  0.9       Other                             "
      ]
     },
     "metadata": {},
     "output_type": "display_data"
    }
   ],
   "source": [
    "proportions('Precautions')"
   ]
  },
  {
   "cell_type": "code",
   "execution_count": 6,
   "id": "manual-democracy",
   "metadata": {
    "collapsed": true
   },
   "outputs": [
    {
     "data": {
      "text/html": [
       "<table>\n",
       "<thead><tr><th scope=col>proportion</th><th scope=col>Indicator</th></tr></thead>\n",
       "<tbody>\n",
       "\t<tr><td>91.1                          </td><td>Canadian population’s health  </td></tr>\n",
       "\t<tr><td>90.7                          </td><td>Vulnerable people’s health    </td></tr>\n",
       "\t<tr><td>90.7                          </td><td>Overloading the health system </td></tr>\n",
       "\t<tr><td>89.6                          </td><td>World population’s health     </td></tr>\n",
       "\t<tr><td>83.4                          </td><td>Member of household’s health  </td></tr>\n",
       "\t<tr><td>80.8                          </td><td>My own health                 </td></tr>\n",
       "\t<tr><td>75.4                          </td><td>Civil disorder                </td></tr>\n",
       "\t<tr><td>74.6                          </td><td>Ability to support in crisis  </td></tr>\n",
       "\t<tr><td>71.9                          </td><td>Maintaining social ties       </td></tr>\n",
       "\t<tr><td>69.4                          </td><td>Ability to support post-crisis</td></tr>\n",
       "\t<tr><td>62.7                          </td><td>Family stress from confinement</td></tr>\n",
       "\t<tr><td> 6.2                          </td><td>Violence in the home          </td></tr>\n",
       "</tbody>\n",
       "</table>\n"
      ],
      "text/latex": [
       "\\begin{tabular}{r|ll}\n",
       " proportion & Indicator\\\\\n",
       "\\hline\n",
       "\t 91.1                           & Canadian population’s health  \\\\\n",
       "\t 90.7                           & Vulnerable people’s health    \\\\\n",
       "\t 90.7                           & Overloading the health system \\\\\n",
       "\t 89.6                           & World population’s health     \\\\\n",
       "\t 83.4                           & Member of household’s health  \\\\\n",
       "\t 80.8                           & My own health                 \\\\\n",
       "\t 75.4                           & Civil disorder                \\\\\n",
       "\t 74.6                           & Ability to support in crisis  \\\\\n",
       "\t 71.9                           & Maintaining social ties       \\\\\n",
       "\t 69.4                           & Ability to support post-crisis\\\\\n",
       "\t 62.7                           & Family stress from confinement\\\\\n",
       "\t  6.2                           & Violence in the home          \\\\\n",
       "\\end{tabular}\n"
      ],
      "text/markdown": [
       "\n",
       "| proportion | Indicator |\n",
       "|---|---|\n",
       "| 91.1                           | Canadian population’s health   |\n",
       "| 90.7                           | Vulnerable people’s health     |\n",
       "| 90.7                           | Overloading the health system  |\n",
       "| 89.6                           | World population’s health      |\n",
       "| 83.4                           | Member of household’s health   |\n",
       "| 80.8                           | My own health                  |\n",
       "| 75.4                           | Civil disorder                 |\n",
       "| 74.6                           | Ability to support in crisis   |\n",
       "| 71.9                           | Maintaining social ties        |\n",
       "| 69.4                           | Ability to support post-crisis |\n",
       "| 62.7                           | Family stress from confinement |\n",
       "|  6.2                           | Violence in the home           |\n",
       "\n"
      ],
      "text/plain": [
       "   proportion Indicator                     \n",
       "1  91.1       Canadian population’s health  \n",
       "2  90.7       Vulnerable people’s health    \n",
       "3  90.7       Overloading the health system \n",
       "4  89.6       World population’s health     \n",
       "5  83.4       Member of household’s health  \n",
       "6  80.8       My own health                 \n",
       "7  75.4       Civil disorder                \n",
       "8  74.6       Ability to support in crisis  \n",
       "9  71.9       Maintaining social ties       \n",
       "10 69.4       Ability to support post-crisis\n",
       "11 62.7       Family stress from confinement\n",
       "12  6.2       Violence in the home          "
      ]
     },
     "metadata": {},
     "output_type": "display_data"
    }
   ],
   "source": [
    "proportions('Concern')"
   ]
  },
  {
   "cell_type": "code",
   "execution_count": 7,
   "id": "chicken-tamil",
   "metadata": {
    "collapsed": true
   },
   "outputs": [
    {
     "data": {
      "text/html": [
       "<table>\n",
       "<thead><tr><th scope=col>proportion</th><th scope=col>Indicator</th></tr></thead>\n",
       "<tbody>\n",
       "\t<tr><td>91.0                                 </td><td>Communication with friends and family</td></tr>\n",
       "\t<tr><td>74.1                                 </td><td>Exercise outdoors                    </td></tr>\n",
       "\t<tr><td>52.4                                 </td><td>Exercise indoors                     </td></tr>\n",
       "\t<tr><td>46.0                                 </td><td>Changing my food choices             </td></tr>\n",
       "\t<tr><td>25.0                                 </td><td>Meditation                           </td></tr>\n",
       "</tbody>\n",
       "</table>\n"
      ],
      "text/latex": [
       "\\begin{tabular}{r|ll}\n",
       " proportion & Indicator\\\\\n",
       "\\hline\n",
       "\t 91.0                                  & Communication with friends and family\\\\\n",
       "\t 74.1                                  & Exercise outdoors                    \\\\\n",
       "\t 52.4                                  & Exercise indoors                     \\\\\n",
       "\t 46.0                                  & Changing my food choices             \\\\\n",
       "\t 25.0                                  & Meditation                           \\\\\n",
       "\\end{tabular}\n"
      ],
      "text/markdown": [
       "\n",
       "| proportion | Indicator |\n",
       "|---|---|\n",
       "| 91.0                                  | Communication with friends and family |\n",
       "| 74.1                                  | Exercise outdoors                     |\n",
       "| 52.4                                  | Exercise indoors                      |\n",
       "| 46.0                                  | Changing my food choices              |\n",
       "| 25.0                                  | Meditation                            |\n",
       "\n"
      ],
      "text/plain": [
       "  proportion Indicator                            \n",
       "1 91.0       Communication with friends and family\n",
       "2 74.1       Exercise outdoors                    \n",
       "3 52.4       Exercise indoors                     \n",
       "4 46.0       Changing my food choices             \n",
       "5 25.0       Meditation                           "
      ]
     },
     "metadata": {},
     "output_type": "display_data"
    }
   ],
   "source": [
    "proportions('Activities')"
   ]
  },
  {
   "cell_type": "code",
   "execution_count": 8,
   "id": "integral-phone",
   "metadata": {
    "collapsed": true
   },
   "outputs": [
    {
     "data": {
      "text/html": [
       "<table>\n",
       "<thead><tr><th scope=col>proportion</th><th scope=col>Indicator</th></tr></thead>\n",
       "<tbody>\n",
       "\t<tr><td>56.1                         </td><td>Spending time on the internet</td></tr>\n",
       "\t<tr><td>45.5                         </td><td>Watching television          </td></tr>\n",
       "\t<tr><td>26.2                         </td><td>Eating junk food or sweets   </td></tr>\n",
       "\t<tr><td>18.4                         </td><td>Playing video games          </td></tr>\n",
       "\t<tr><td>16.0                         </td><td>Consuming alcohol            </td></tr>\n",
       "\t<tr><td>15.8                         </td><td>Playing board games          </td></tr>\n",
       "\t<tr><td> 5.9                         </td><td>Consuming cannabis           </td></tr>\n",
       "\t<tr><td> 4.7                         </td><td>Using tobacco products       </td></tr>\n",
       "</tbody>\n",
       "</table>\n"
      ],
      "text/latex": [
       "\\begin{tabular}{r|ll}\n",
       " proportion & Indicator\\\\\n",
       "\\hline\n",
       "\t 56.1                          & Spending time on the internet\\\\\n",
       "\t 45.5                          & Watching television          \\\\\n",
       "\t 26.2                          & Eating junk food or sweets   \\\\\n",
       "\t 18.4                          & Playing video games          \\\\\n",
       "\t 16.0                          & Consuming alcohol            \\\\\n",
       "\t 15.8                          & Playing board games          \\\\\n",
       "\t  5.9                          & Consuming cannabis           \\\\\n",
       "\t  4.7                          & Using tobacco products       \\\\\n",
       "\\end{tabular}\n"
      ],
      "text/markdown": [
       "\n",
       "| proportion | Indicator |\n",
       "|---|---|\n",
       "| 56.1                          | Spending time on the internet |\n",
       "| 45.5                          | Watching television           |\n",
       "| 26.2                          | Eating junk food or sweets    |\n",
       "| 18.4                          | Playing video games           |\n",
       "| 16.0                          | Consuming alcohol             |\n",
       "| 15.8                          | Playing board games           |\n",
       "|  5.9                          | Consuming cannabis            |\n",
       "|  4.7                          | Using tobacco products        |\n",
       "\n"
      ],
      "text/plain": [
       "  proportion Indicator                    \n",
       "1 56.1       Spending time on the internet\n",
       "2 45.5       Watching television          \n",
       "3 26.2       Eating junk food or sweets   \n",
       "4 18.4       Playing video games          \n",
       "5 16.0       Consuming alcohol            \n",
       "6 15.8       Playing board games          \n",
       "7  5.9       Consuming cannabis           \n",
       "8  4.7       Using tobacco products       "
      ]
     },
     "metadata": {},
     "output_type": "display_data"
    }
   ],
   "source": [
    "proportions('Habits')"
   ]
  },
  {
   "cell_type": "code",
   "execution_count": 9,
   "id": "promising-hayes",
   "metadata": {
    "collapsed": true
   },
   "outputs": [
    {
     "data": {
      "text/html": [
       "<table>\n",
       "<thead><tr><th scope=col>proportion</th><th scope=col>Indicator</th></tr></thead>\n",
       "<tbody>\n",
       "\t<tr><td>89.7                                            </td><td>Went shopping at the grocery store or drugstore </td></tr>\n",
       "\t<tr><td>26.4                                            </td><td>Used a food delivery service for prepared food  </td></tr>\n",
       "\t<tr><td>12.7                                            </td><td>Used delivery service for groceries or drugstore</td></tr>\n",
       "</tbody>\n",
       "</table>\n"
      ],
      "text/latex": [
       "\\begin{tabular}{r|ll}\n",
       " proportion & Indicator\\\\\n",
       "\\hline\n",
       "\t 89.7                                             & Went shopping at the grocery store or drugstore \\\\\n",
       "\t 26.4                                             & Used a food delivery service for prepared food  \\\\\n",
       "\t 12.7                                             & Used delivery service for groceries or drugstore\\\\\n",
       "\\end{tabular}\n"
      ],
      "text/markdown": [
       "\n",
       "| proportion | Indicator |\n",
       "|---|---|\n",
       "| 89.7                                             | Went shopping at the grocery store or drugstore  |\n",
       "| 26.4                                             | Used a food delivery service for prepared food   |\n",
       "| 12.7                                             | Used delivery service for groceries or drugstore |\n",
       "\n"
      ],
      "text/plain": [
       "  proportion Indicator                                       \n",
       "1 89.7       Went shopping at the grocery store or drugstore \n",
       "2 26.4       Used a food delivery service for prepared food  \n",
       "3 12.7       Used delivery service for groceries or drugstore"
      ]
     },
     "metadata": {},
     "output_type": "display_data"
    }
   ],
   "source": [
    "proportions('Lastweek')"
   ]
  },
  {
   "cell_type": "markdown",
   "id": "agreed-marketplace",
   "metadata": {},
   "source": [
    "## <center><span style=\"color:darkorange\">   Impact of source of information on the precautions taken to reduce risk </center> </span>\n",
    "\n",
    "Data wrangling Steps: \n",
    "1. Filter only required fields. \n",
    "2. Transform the fields to get indicator value for analysis.\n",
    "3. Subset the data for analysis."
   ]
  },
  {
   "cell_type": "code",
   "execution_count": 38,
   "id": "fundamental-scout",
   "metadata": {},
   "outputs": [],
   "source": [
    "#Extract data for Analysis on the use of information source and precautions taken.\n",
    "analysis_prec_info=select(raw,pumfid,\n",
    "         pers_wgt,\n",
    "         bh_05c, #main info source\n",
    "         bh_20f, #Avoided leaving the house\n",
    "         bh_20g, #Used physical distancing in public\n",
    "         bh_20h, #Avoided crowds and large gathering\n",
    "         bh_20i, #Washed your hands more regularly\n",
    "         bh_20j, #Avoided touching your face\n",
    "         bh_20k, #Cancelled travel\n",
    "         bh_20l, #Worked from home\n",
    "         bh_20o) #mask use "
   ]
  },
  {
   "cell_type": "code",
   "execution_count": 39,
   "id": "suspended-apartment",
   "metadata": {},
   "outputs": [],
   "source": [
    "#For plots \n",
    "y_axis_breaks=c(\"1\",\"2\",\"3\",\"4\",\"5\",\"6\",\"7\",\"8\",\"9\",\"10\",\"11\",\"12\")\n",
    "y_axis_labels=c(\"News outlets\",\"Federal health agency\",\n",
    "                \"Provincial or territorial health agency\",\n",
    "                \"Municipal health agency \",\n",
    "                \"Federal daily announcements\",\n",
    "                \"Provincial daily announcements\",\n",
    "                \"Social media\",\n",
    "                \"Family, friends or colleagues\",\n",
    "                \"Health professionals\",\n",
    "                \"Place of employment\",\n",
    "                \"Other\",\n",
    "                \"I do not look for information about this\")\n",
    "#Function to create CI\n",
    "estimate_table <-function(survey_mean) {\n",
    "  p_mean=survey_mean\n",
    "  p_estimates=data.frame(confint(p_mean)[c(1:12),])\n",
    "  rownames(p_estimates)=y_axis_labels\n",
    "  p_estimates$Mean=p_mean[,2]\n",
    "  print(p_estimates[order(p_estimates$Mean,decreasing = TRUE),])\n",
    "  \n",
    "}\n"
   ]
  },
  {
   "attachments": {
    "image-2.png": {
     "image/png": "[encoded data removed]"
    }
   },
   "cell_type": "markdown",
   "id": "wrong-andorra",
   "metadata": {},
   "source": [
    "### 51% of Canadians consulted News outlets for COVID-19 info;\n",
    "\n",
    "### Near to 10% consulted Prov. Health Agency. 10% relied on Prov daily announcements and Social media as their primary info source \n",
    "\n",
    "<details>   \n",
    "    \n",
    "    \n",
    "    \n",
    "![image-2.png](attachment:image-2.png) \n",
    "    \n",
    "    \n",
    "\n",
    "    \n",
    "</details>\n",
    "\n"
   ]
  },
  {
   "attachments": {
    "MSsex.png": {
     "image/png": "[encoded data removed]"
    }
   },
   "cell_type": "markdown",
   "id": "eligible-viewer",
   "metadata": {},
   "source": [
    "#### Use of Main information source by Sex. \n",
    "<details>  \n",
    "Blue indicates Males, pink indicates female proportion.\n",
    "    \n",
    "![MSsex.png](attachment:MSsex.png)\n",
    "    \n",
    "    </details>  "
   ]
  },
  {
   "cell_type": "code",
   "execution_count": 40,
   "id": "closing-measure",
   "metadata": {},
   "outputs": [
    {
     "data": {
      "text/plain": [
       "\n",
       "   1    2    3    4    5    6    7    8    9   10   11   12   99 \n",
       "2100   84  475   70  127  501  343  148   87  120   38  124    1 "
      ]
     },
     "metadata": {},
     "output_type": "display_data"
    },
    {
     "name": "stdout",
     "output_type": "stream",
     "text": [
      "                     mean     SE\n",
      "factor(bh_05c)1  0.506187 0.0141\n",
      "factor(bh_05c)2  0.018981 0.0031\n",
      "factor(bh_05c)3  0.094978 0.0076\n",
      "factor(bh_05c)4  0.016485 0.0040\n",
      "factor(bh_05c)5  0.031693 0.0058\n",
      "factor(bh_05c)6  0.097672 0.0077\n",
      "factor(bh_05c)7  0.094911 0.0075\n",
      "factor(bh_05c)8  0.050418 0.0081\n",
      "factor(bh_05c)9  0.023476 0.0046\n",
      "factor(bh_05c)10 0.025536 0.0043\n",
      "factor(bh_05c)11 0.013283 0.0048\n",
      "factor(bh_05c)12 0.026380 0.0040\n"
     ]
    }
   ],
   "source": [
    "#Data transformation\n",
    "table(analysis_prec_info$bh_05c)\n",
    "analysis_prec_info$lh_ind=cut(analysis_prec_info$bh_20f,c(0,1,Inf), c(1,0))\n",
    "analysis_prec_info$pd_ind=cut(analysis_prec_info$bh_20g,c(0,1,Inf), c(1,0))\n",
    "analysis_prec_info$ac_ind=cut(analysis_prec_info$bh_20h,c(0,1,Inf), c(1,0))\n",
    "analysis_prec_info$wh_ind=cut(analysis_prec_info$bh_20i,c(0,1,Inf), c(1,0))\n",
    "analysis_prec_info$tf_ind=cut(analysis_prec_info$bh_20j,c(0,1,Inf), c(1,0))\n",
    "analysis_prec_info$ct_ind=cut(analysis_prec_info$bh_20k,c(0,1,Inf), c(1,0))\n",
    "analysis_prec_info$wfh_ind=cut(analysis_prec_info$bh_20l,c(0,1,Inf), c(1,0))\n",
    "analysis_prec_info$wm_ind=cut(analysis_prec_info$bh_20o,c(0,1,Inf), c(1,0))\n",
    "svy_data_all = svydesign(id=~pumfid, weights=~pers_wgt, survey.lonely.psu = \"adjust\", data=analysis_prec_info)\n",
    "svy_data=subset(svy_data_all,bh_05c <13)\n",
    "main_source=svymean(~factor(bh_05c),design =svy_data)\n",
    "print(main_source)"
   ]
  },
  {
   "cell_type": "code",
   "execution_count": 15,
   "id": "unexpected-astrology",
   "metadata": {},
   "outputs": [
    {
     "name": "stdout",
     "output_type": "stream",
     "text": [
      "                                            X2.5..   X97.5..      Mean\n",
      "Federal daily announcements              0.8044959 0.9479816 0.8762388\n",
      "Municipal health agency                  0.7401133 0.9581593 0.8491363\n",
      "Health professionals                     0.7133018 0.9301438 0.8217228\n",
      "Federal health agency                    0.6616471 0.9333072 0.7974771\n",
      "Family, friends or colleagues            0.6596055 0.9123850 0.7859952\n",
      "Provincial daily announcements           0.7050882 0.8305492 0.7678187\n",
      "Provincial or territorial health agency  0.6983636 0.8353688 0.7668662\n",
      "News outlets                             0.7207195 0.7872162 0.7539679\n",
      "Other                                    0.4926077 0.9731897 0.7328987\n",
      "Place of employment                      0.4822677 0.8101301 0.6461989\n",
      "Social media                             0.5643445 0.7164891 0.6404168\n",
      "I do not look for information about this 0.1806596 0.4124591 0.2965594\n"
     ]
    },
    {
     "data": {
      "text/plain": [
       "\n",
       "\tDesign-based KruskalWallis test\n",
       "\n",
       "data:  bh_20f ~ bh_05c\n",
       "df = 11, Chisq = 86.438, p-value = 1.179e-13\n"
      ]
     },
     "metadata": {},
     "output_type": "display_data"
    }
   ],
   "source": [
    "#Avoided Leaving Home\n",
    "#svytable(~lh_ind+bh_05c,design =svy_data)\n",
    "leavehome_mean=svyby(~lh_ind,~bh_05c,design =svy_data, na = TRUE, svymean)\n",
    "estimate_table(leavehome_mean)\n",
    "\n",
    "#Test to check if there is any variance in avoiding leaving home and primary info source\n",
    "svyranktest(bh_20f~bh_05c, design = svy_data, test=(\"KruskalWallis\")) # Statistically Significant"
   ]
  },
  {
   "cell_type": "code",
   "execution_count": 16,
   "id": "suspended-japanese",
   "metadata": {
    "scrolled": true
   },
   "outputs": [
    {
     "name": "stdout",
     "output_type": "stream",
     "text": [
      "                                            X2.5..   X97.5..      Mean\n",
      "Federal daily announcements              0.8976621 0.9943621 0.9460121\n",
      "Provincial daily announcements           0.9184182 0.9731504 0.9457843\n",
      "Provincial or territorial health agency  0.8975542 0.9771202 0.9373372\n",
      "Municipal health agency                  0.8677989 0.9974909 0.9326449\n",
      "Place of employment                      0.8564879 0.9898889 0.9231884\n",
      "News outlets                             0.8883678 0.9293874 0.9088776\n",
      "Health professionals                     0.8225320 0.9845317 0.9035319\n",
      "Federal health agency                    0.7463623 1.0099863 0.8781743\n",
      "Family, friends or colleagues            0.7321713 0.9642737 0.8482225\n",
      "Social media                             0.7626060 0.8838895 0.8232478\n",
      "Other                                    0.6248545 1.0138909 0.8193727\n",
      "I do not look for information about this 0.5045689 0.7666769 0.6356229\n"
     ]
    },
    {
     "data": {
      "text/plain": [
       "\n",
       "\tDesign-based KruskalWallis test\n",
       "\n",
       "data:  bh_20g ~ bh_05c\n",
       "df = 11, Chisq = 37.152, p-value = 0.000114\n"
      ]
     },
     "metadata": {},
     "output_type": "display_data"
    }
   ],
   "source": [
    "#Physical distancing\n",
    "phydist_mean=svyby(~pd_ind,~bh_05c,design =svy_data, na = TRUE, svymean)\n",
    "estimate_table(phydist_mean)\n",
    "\n",
    "#Test to check if there is any variance in Physical distancing and primary info source\n",
    "svyranktest(bh_20g~bh_05c, design = svy_data, test=(\"KruskalWallis\")) # Statistically Significant"
   ]
  },
  {
   "cell_type": "code",
   "execution_count": 17,
   "id": "formal-vector",
   "metadata": {},
   "outputs": [
    {
     "name": "stdout",
     "output_type": "stream",
     "text": [
      "                                            X2.5..   X97.5..      Mean\n",
      "Municipal health agency                  0.9611414 1.0081291 0.9846353\n",
      "Federal health agency                    0.8845324 0.9864864 0.9355094\n",
      "Federal daily announcements              0.8667883 0.9848119 0.9258001\n",
      "News outlets                             0.9000755 0.9349557 0.9175156\n",
      "Provincial or territorial health agency  0.8737487 0.9601349 0.9169418\n",
      "Health professionals                     0.8045439 0.9764329 0.8904884\n",
      "Family, friends or colleagues            0.7557795 0.9788822 0.8673308\n",
      "Provincial daily announcements           0.7912019 0.9407215 0.8659617\n",
      "Social media                             0.7851876 0.9219420 0.8535648\n",
      "Place of employment                      0.7488778 0.9423836 0.8456307\n",
      "Other                                    0.5187825 0.9851351 0.7519588\n",
      "I do not look for information about this 0.4574846 0.7336593 0.5955719\n"
     ]
    },
    {
     "data": {
      "text/plain": [
       "\n",
       "\tDesign-based KruskalWallis test\n",
       "\n",
       "data:  bh_20h ~ bh_05c\n",
       "df = 11, Chisq = 60.384, p-value = 9.198e-09\n"
      ]
     },
     "metadata": {},
     "output_type": "display_data"
    }
   ],
   "source": [
    "#Avoided Crowds and gathering\n",
    "avdcrwd_mean=svyby(~ac_ind,~bh_05c,design =svy_data, na = TRUE, svymean)\n",
    "estimate_table(avdcrwd_mean)\n",
    "\n",
    "#Test to check if there is any variance in avoiding Crowds and gathering and primary info source\n",
    "svyranktest(bh_20h~bh_05c, design = svy_data, test=(\"KruskalWallis\")) # Statistically Significant"
   ]
  },
  {
   "cell_type": "code",
   "execution_count": 18,
   "id": "suitable-population",
   "metadata": {
    "scrolled": false
   },
   "outputs": [
    {
     "name": "stdout",
     "output_type": "stream",
     "text": [
      "                                            X2.5..   X97.5..      Mean\n",
      "Place of employment                      0.9399296 1.0042188 0.9720742\n",
      "Provincial daily announcements           0.9390161 0.9813219 0.9601690\n",
      "Federal health agency                    0.9069065 0.9954523 0.9511794\n",
      "Health professionals                     0.8911947 1.0084102 0.9498025\n",
      "News outlets                             0.9255333 0.9588934 0.9422134\n",
      "Family, friends or colleagues            0.8864215 0.9940217 0.9402216\n",
      "Provincial or territorial health agency  0.8940909 0.9780189 0.9360549\n",
      "Municipal health agency                  0.7851194 1.0177309 0.9014251\n",
      "Federal daily announcements              0.7956367 0.9924547 0.8940457\n",
      "Social media                             0.8016719 0.9262306 0.8639513\n",
      "Other                                    0.6061073 1.0070942 0.8066007\n",
      "I do not look for information about this 0.5514669 0.7968379 0.6741524\n"
     ]
    },
    {
     "data": {
      "text/plain": [
       "\n",
       "\tDesign-based KruskalWallis test\n",
       "\n",
       "data:  bh_20i ~ bh_05c\n",
       "df = 11, Chisq = 33.744, p-value = 0.0004133\n"
      ]
     },
     "metadata": {},
     "output_type": "display_data"
    }
   ],
   "source": [
    "#Washing Hands\n",
    "washands_mean=svyby(~wh_ind,~bh_05c,design =svy_data, na = TRUE, svymean)\n",
    "estimate_table(washands_mean)\n",
    "\n",
    "#Test to check if there is any variance in washing hands and primary info source\n",
    "svyranktest(bh_20i~bh_05c, design = svy_data, test=(\"KruskalWallis\")) # Statistically Significant"
   ]
  },
  {
   "cell_type": "code",
   "execution_count": 19,
   "id": "loving-asian",
   "metadata": {},
   "outputs": [
    {
     "name": "stdout",
     "output_type": "stream",
     "text": [
      "                                            X2.5..   X97.5..      Mean\n",
      "Place of employment                      0.9399296 1.0042188 0.9720742\n",
      "Provincial daily announcements           0.9390161 0.9813219 0.9601690\n",
      "Federal health agency                    0.9069065 0.9954523 0.9511794\n",
      "Health professionals                     0.8911947 1.0084102 0.9498025\n",
      "News outlets                             0.9255333 0.9588934 0.9422134\n",
      "Family, friends or colleagues            0.8864215 0.9940217 0.9402216\n",
      "Provincial or territorial health agency  0.8940909 0.9780189 0.9360549\n",
      "Municipal health agency                  0.7851194 1.0177309 0.9014251\n",
      "Federal daily announcements              0.7956367 0.9924547 0.8940457\n",
      "Social media                             0.8016719 0.9262306 0.8639513\n",
      "Other                                    0.6061073 1.0070942 0.8066007\n",
      "I do not look for information about this 0.5514669 0.7968379 0.6741524\n"
     ]
    },
    {
     "data": {
      "text/plain": [
       "\n",
       "\tDesign-based KruskalWallis test\n",
       "\n",
       "data:  bh_20j ~ bh_05c\n",
       "df = 11, Chisq = 36.88, p-value = 0.0001265\n"
      ]
     },
     "metadata": {},
     "output_type": "display_data"
    }
   ],
   "source": [
    "#Avoided touching your face\n",
    "touchface_mean=svyby(~wh_ind,~bh_05c,design =svy_data, na = TRUE, svymean)\n",
    "estimate_table(touchface_mean)\n",
    "\n",
    "#Test to check if there is any variance in Avoided touching your face and primary info source\n",
    "svyranktest(bh_20j~bh_05c, design = svy_data, test=(\"KruskalWallis\")) # Statistically Significant"
   ]
  },
  {
   "cell_type": "code",
   "execution_count": 20,
   "id": "literary-reform",
   "metadata": {},
   "outputs": [
    {
     "name": "stdout",
     "output_type": "stream",
     "text": [
      "                                            X2.5..   X97.5..      Mean\n",
      "Municipal health agency                  0.4609199 0.8471678 0.6540438\n",
      "Federal health agency                    0.4054633 0.7301896 0.5678264\n",
      "Provincial or territorial health agency  0.4835348 0.6450637 0.5642992\n",
      "Federal daily announcements              0.3466039 0.7037525 0.5251782\n",
      "Other                                    0.1098221 0.8406508 0.4752364\n",
      "Provincial daily announcements           0.3940884 0.5511795 0.4726339\n",
      "Social media                             0.3672924 0.5252776 0.4462850\n",
      "News outlets                             0.4065928 0.4823346 0.4444637\n",
      "Family, friends or colleagues            0.2782228 0.6087033 0.4434631\n",
      "Health professionals                     0.2460431 0.6226116 0.4343273\n",
      "Place of employment                      0.2692260 0.5866843 0.4279551\n",
      "I do not look for information about this 0.1006494 0.3195540 0.2101017\n"
     ]
    },
    {
     "data": {
      "text/plain": [
       "\n",
       "\tDesign-based KruskalWallis test\n",
       "\n",
       "data:  bh_20k ~ bh_05c\n",
       "df = 11, Chisq = 33.554, p-value = 0.0004436\n"
      ]
     },
     "metadata": {},
     "output_type": "display_data"
    }
   ],
   "source": [
    "#Cancelled travel\n",
    "cantrvl_mean=svyby(~ct_ind,~bh_05c,design =svy_data, na = TRUE, svymean)\n",
    "estimate_table(cantrvl_mean)\n",
    "\n",
    "#Test to check if there is any variance Cancelled travel and primary info source\n",
    "svyranktest(bh_20k~bh_05c, design = svy_data, test=(\"KruskalWallis\")) # Statistically Significant"
   ]
  },
  {
   "cell_type": "code",
   "execution_count": 21,
   "id": "gothic-spain",
   "metadata": {},
   "outputs": [
    {
     "name": "stdout",
     "output_type": "stream",
     "text": [
      "                                             X2.5..   X97.5..      Mean\n",
      "Municipal health agency                  0.16247558 0.5862549 0.3743652\n",
      "Provincial or territorial health agency  0.28503521 0.4371159 0.3610755\n",
      "Federal health agency                    0.18168299 0.5114283 0.3465556\n",
      "Health professionals                     0.11449122 0.4741028 0.2942970\n",
      "Other                                    0.01786847 0.5606173 0.2892429\n",
      "News outlets                             0.24667256 0.3100531 0.2783628\n",
      "Provincial daily announcements           0.20341091 0.3531877 0.2782993\n",
      "Place of employment                      0.13406856 0.4111657 0.2726171\n",
      "Social media                             0.16638931 0.2911255 0.2287574\n",
      "Family, friends or colleagues            0.09769033 0.3285094 0.2130999\n",
      "Federal daily announcements              0.06977762 0.2362128 0.1529952\n",
      "I do not look for information about this 0.04589456 0.2467529 0.1463238\n"
     ]
    },
    {
     "data": {
      "text/plain": [
       "\n",
       "\tDesign-based KruskalWallis test\n",
       "\n",
       "data:  bh_20l ~ bh_05c\n",
       "df = 11, Chisq = 23.417, p-value = 0.01563\n"
      ]
     },
     "metadata": {},
     "output_type": "display_data"
    }
   ],
   "source": [
    "#Worked from home\n",
    "wfh_mean=svyby(~wfh_ind,~bh_05c,design =svy_data, na = TRUE, svymean)\n",
    "estimate_table(wfh_mean)\n",
    "\n",
    "#Test to check if there is any variance in Worked from home and primary info source\n",
    "svyranktest(bh_20l~bh_05c, design = svy_data, test=(\"KruskalWallis\")) # Not Statistically Significant"
   ]
  },
  {
   "cell_type": "code",
   "execution_count": 22,
   "id": "pending-investing",
   "metadata": {},
   "outputs": [
    {
     "name": "stdout",
     "output_type": "stream",
     "text": [
      "                                            X2.5..   X97.5..      Mean\n",
      "Federal daily announcements              0.8818007 0.9852774 0.9335391\n",
      "Place of employment                      0.8416267 0.9784937 0.9100602\n",
      "Provincial or territorial health agency  0.8195218 0.9130441 0.8662829\n",
      "News outlets                             0.8424812 0.8870070 0.8647441\n",
      "Federal health agency                    0.7677844 0.9588683 0.8633264\n",
      "Municipal health agency                  0.7066909 0.9957150 0.8512030\n",
      "Provincial daily announcements           0.7590596 0.9145958 0.8368277\n",
      "Health professionals                     0.7250107 0.9404953 0.8327530\n",
      "Family, friends or colleagues            0.6860118 0.9229672 0.8044895\n",
      "Social media                             0.7187475 0.8523918 0.7855697\n",
      "Other                                    0.5117352 0.9788219 0.7452785\n",
      "I do not look for information about this 0.3446626 0.6416019 0.4931322\n"
     ]
    },
    {
     "data": {
      "text/plain": [
       "\n",
       "\tDesign-based KruskalWallis test\n",
       "\n",
       "data:  bh_20o ~ bh_05c\n",
       "df = 11, Chisq = 40.636, p-value = 2.956e-05\n"
      ]
     },
     "metadata": {},
     "output_type": "display_data"
    }
   ],
   "source": [
    "#Mask use\n",
    "mask_mean=svyby(~wm_ind,~bh_05c,design =svy_data, na = TRUE, svymean)\n",
    "estimate_table(mask_mean)\n",
    "#People who use federal sources as main information source are more likely to wear a mask\n",
    "\n",
    "#Test to check if there is any variance in Mask use and primary info source\n",
    "svyranktest(bh_20o~bh_05c, design = svy_data, test=(\"KruskalWallis\")) # Statistically Significant"
   ]
  },
  {
   "cell_type": "code",
   "execution_count": 41,
   "id": "destroyed-flight",
   "metadata": {
    "collapsed": true
   },
   "outputs": [
    {
     "data": {
      "text/plain": [
       "\n",
       "\tDesign-based Wald test of association\n",
       "\n",
       "data:  svychisq(~bh_05c + lh_ind, design = svy_data, statistic = \"adjWald\")\n",
       "F = 3.479, ndf = 11, ddf = 4206, p-value = 7.42e-05\n"
      ]
     },
     "metadata": {},
     "output_type": "display_data"
    },
    {
     "data": {
      "text/plain": [
       "\n",
       "\tDesign-based Wald test of association\n",
       "\n",
       "data:  svychisq(~bh_05c + pd_ind, design = svy_data, statistic = \"adjWald\")\n",
       "F = 3.3276, ndf = 11, ddf = 4206, p-value = 0.0001406\n"
      ]
     },
     "metadata": {},
     "output_type": "display_data"
    },
    {
     "data": {
      "text/plain": [
       "\n",
       "\tDesign-based Wald test of association\n",
       "\n",
       "data:  svychisq(~bh_05c + ac_ind, design = svy_data, statistic = \"adjWald\")\n",
       "F = 3.3424, ndf = 11, ddf = 4206, p-value = 0.0001321\n"
      ]
     },
     "metadata": {},
     "output_type": "display_data"
    },
    {
     "data": {
      "text/plain": [
       "\n",
       "\tDesign-based Wald test of association\n",
       "\n",
       "data:  svychisq(~bh_05c + wh_ind, design = svy_data, statistic = \"adjWald\")\n",
       "F = 3.0853, ndf = 11, ddf = 4206, p-value = 0.0003844\n"
      ]
     },
     "metadata": {},
     "output_type": "display_data"
    },
    {
     "data": {
      "text/plain": [
       "\n",
       "\tDesign-based Wald test of association\n",
       "\n",
       "data:  svychisq(~bh_05c + tf_ind, design = svy_data, statistic = \"adjWald\")\n",
       "F = 2.4188, ndf = 11, ddf = 4206, p-value = 0.005369\n"
      ]
     },
     "metadata": {},
     "output_type": "display_data"
    },
    {
     "data": {
      "text/plain": [
       "\n",
       "\tDesign-based Wald test of association\n",
       "\n",
       "data:  svychisq(~bh_05c + ct_ind, design = svy_data, statistic = \"adjWald\")\n",
       "F = 2.1438, ndf = 11, ddf = 4206, p-value = 0.01481\n"
      ]
     },
     "metadata": {},
     "output_type": "display_data"
    },
    {
     "data": {
      "text/plain": [
       "\n",
       "\tDesign-based Wald test of association\n",
       "\n",
       "data:  svychisq(~bh_05c + wfh_ind, design = svy_data, statistic = \"adjWald\")\n",
       "F = 1.7663, ndf = 11, ddf = 4206, p-value = 0.0542\n"
      ]
     },
     "metadata": {},
     "output_type": "display_data"
    },
    {
     "data": {
      "text/plain": [
       "\n",
       "\tDesign-based Wald test of association\n",
       "\n",
       "data:  svychisq(~bh_05c + wm_ind, design = svy_data, statistic = \"adjWald\")\n",
       "F = 2.3331, ndf = 11, ddf = 4206, p-value = 0.007405\n"
      ]
     },
     "metadata": {},
     "output_type": "display_data"
    }
   ],
   "source": [
    "#Chi Square test for association\n",
    "svychisq(~bh_05c+lh_ind,design =svy_data,statistic=\"adjWald\")\n",
    "svychisq(~bh_05c+pd_ind,design =svy_data,statistic=\"adjWald\")\n",
    "svychisq(~bh_05c+ac_ind,design =svy_data,statistic=\"adjWald\")\n",
    "svychisq(~bh_05c+wh_ind,design =svy_data,statistic=\"adjWald\")\n",
    "svychisq(~bh_05c+tf_ind,design =svy_data,statistic=\"adjWald\")\n",
    "svychisq(~bh_05c+ct_ind,design =svy_data,statistic=\"adjWald\")\n",
    "svychisq(~bh_05c+wfh_ind,design =svy_data,statistic=\"adjWald\")\n",
    "svychisq(~bh_05c+wm_ind,design =svy_data,statistic=\"adjWald\")"
   ]
  },
  {
   "cell_type": "markdown",
   "id": "virtual-implementation",
   "metadata": {},
   "source": [
    "## \n",
    "### <span style=\"color:darkorange\"> Analysis reveals that with respect to main source of information, there is a </span>\n",
    "    \n",
    "#### <span style=\"color:darkgreen\"> -  significant variation in the precautions taken to reduce risk. </span> \n",
    "#### <span style=\"color:darkgreen\"> -  significant association between precautions other than travel cancellations and wfh </span>\n",
    "\n",
    "### -  <span style=\"color:darkorange\">  People who consulted Federal daily announcements are more likely to  Avoid Leaving Home, practice Physical distancing and Use mask </span> \n",
    "\n",
    "### -  <span style=\"color:darkorange\">  Municipal health agency has more influence in Avoiding Crowds and gathering </span> \n",
    "\n",
    "### -  <span style=\"color:darkorange\">  Information at the Place of employment seem effective in Washing Hands, Avoided touching the face etc </span> \n",
    "\n",
    "### -   <span style=\"color:darkorange\">  People who consulted Social media as their primary source of COVID-19 info do not appear to take most precautions.</span>  \n",
    "\n",
    "### -  <span style=\"color:darkorange\">  Evident that those who did not consult any information sources rarely take precautions. </span>  \n",
    "###  \n",
    "### \n",
    "### \n",
    "###  <center>  <span style=\"color:darkgreen\"> Trustworthy sources </span>  </center>\n",
    "    \n",
    "###   <span style=\"color:darkgreen\"> Canadians consider online forums as trustworthy source of information for COVID-19. </span> \n",
    "    "
   ]
  },
  {
   "cell_type": "code",
   "execution_count": 23,
   "id": "joined-formula",
   "metadata": {},
   "outputs": [
    {
     "data": {
      "text/html": [
       "<table>\n",
       "<thead><tr><th></th><th scope=col>Source</th><th scope=col>Trusted.</th><th scope=col>NotTrusted.</th><th scope=col>trust_pc</th></tr></thead>\n",
       "<tbody>\n",
       "\t<tr><th scope=row>5</th><td>Online forums                               </td><td> 57498.1500                                 </td><td> 116833.85                                  </td><td>0.329819827                                 </td></tr>\n",
       "\t<tr><th scope=row>11</th><td>Other                                       </td><td>126010.0000                                 </td><td> 262029.70                                  </td><td>0.324734815                                 </td></tr>\n",
       "\t<tr><th scope=row>10</th><td>Email from a friend or family               </td><td> 70500.7400                                 </td><td> 204324.33                                  </td><td>0.256529508                                 </td></tr>\n",
       "\t<tr><th scope=row>3</th><td>Online newspapers or news sites             </td><td>624103.5000                                 </td><td>2528062.80                                  </td><td>0.197991933                                 </td></tr>\n",
       "\t<tr><th scope=row>2</th><td>Social media posts from news orgs, magazines</td><td>284838.6000                                 </td><td>1473305.60                                  </td><td>0.162010943                                 </td></tr>\n",
       "\t<tr><th scope=row>4</th><td>Online magazine on current events           </td><td> 23680.7000                                 </td><td> 238619.20                                  </td><td>0.090281010                                 </td></tr>\n",
       "\t<tr><th scope=row>1</th><td>Social media posts from users/influencers   </td><td>117321.9000                                 </td><td>1323590.30                                  </td><td>0.081421963                                 </td></tr>\n",
       "\t<tr><th scope=row>9</th><td>Online video sharing platforms              </td><td> 21925.0300                                 </td><td> 406911.99                                  </td><td>0.051126719                                 </td></tr>\n",
       "\t<tr><th scope=row>6</th><td>Online encyclopedia or repository           </td><td>  4593.5750                                 </td><td> 132301.74                                  </td><td>0.033555385                                 </td></tr>\n",
       "\t<tr><th scope=row>8</th><td>Podcasts                                    </td><td>  1603.7790                                 </td><td> 153755.46                                  </td><td>0.010323036                                 </td></tr>\n",
       "\t<tr><th scope=row>7</th><td>Blogs                                       </td><td>   569.1014                                 </td><td>  56936.35                                  </td><td>0.009896477                                 </td></tr>\n",
       "</tbody>\n",
       "</table>\n"
      ],
      "text/latex": [
       "\\begin{tabular}{r|llll}\n",
       "  & Source & Trusted. & NotTrusted. & trust\\_pc\\\\\n",
       "\\hline\n",
       "\t5 & Online forums                                &  57498.1500                                  &  116833.85                                   & 0.329819827                                 \\\\\n",
       "\t11 & Other                                        & 126010.0000                                  &  262029.70                                   & 0.324734815                                 \\\\\n",
       "\t10 & Email from a friend or family                &  70500.7400                                  &  204324.33                                   & 0.256529508                                 \\\\\n",
       "\t3 & Online newspapers or news sites              & 624103.5000                                  & 2528062.80                                   & 0.197991933                                 \\\\\n",
       "\t2 & Social media posts from news orgs, magazines & 284838.6000                                  & 1473305.60                                   & 0.162010943                                 \\\\\n",
       "\t4 & Online magazine on current events            &  23680.7000                                  &  238619.20                                   & 0.090281010                                 \\\\\n",
       "\t1 & Social media posts from users/influencers    & 117321.9000                                  & 1323590.30                                   & 0.081421963                                 \\\\\n",
       "\t9 & Online video sharing platforms               &  21925.0300                                  &  406911.99                                   & 0.051126719                                 \\\\\n",
       "\t6 & Online encyclopedia or repository            &   4593.5750                                  &  132301.74                                   & 0.033555385                                 \\\\\n",
       "\t8 & Podcasts                                     &   1603.7790                                  &  153755.46                                   & 0.010323036                                 \\\\\n",
       "\t7 & Blogs                                        &    569.1014                                  &   56936.35                                   & 0.009896477                                 \\\\\n",
       "\\end{tabular}\n"
      ],
      "text/markdown": [
       "\n",
       "| <!--/--> | Source | Trusted. | NotTrusted. | trust_pc |\n",
       "|---|---|---|---|---|\n",
       "| 5 | Online forums                                |  57498.1500                                  |  116833.85                                   | 0.329819827                                  |\n",
       "| 11 | Other                                        | 126010.0000                                  |  262029.70                                   | 0.324734815                                  |\n",
       "| 10 | Email from a friend or family                |  70500.7400                                  |  204324.33                                   | 0.256529508                                  |\n",
       "| 3 | Online newspapers or news sites              | 624103.5000                                  | 2528062.80                                   | 0.197991933                                  |\n",
       "| 2 | Social media posts from news orgs, magazines | 284838.6000                                  | 1473305.60                                   | 0.162010943                                  |\n",
       "| 4 | Online magazine on current events            |  23680.7000                                  |  238619.20                                   | 0.090281010                                  |\n",
       "| 1 | Social media posts from users/influencers    | 117321.9000                                  | 1323590.30                                   | 0.081421963                                  |\n",
       "| 9 | Online video sharing platforms               |  21925.0300                                  |  406911.99                                   | 0.051126719                                  |\n",
       "| 6 | Online encyclopedia or repository            |   4593.5750                                  |  132301.74                                   | 0.033555385                                  |\n",
       "| 8 | Podcasts                                     |   1603.7790                                  |  153755.46                                   | 0.010323036                                  |\n",
       "| 7 | Blogs                                        |    569.1014                                  |   56936.35                                   | 0.009896477                                  |\n",
       "\n"
      ],
      "text/plain": [
       "   Source                                       Trusted.    NotTrusted.\n",
       "5  Online forums                                 57498.1500  116833.85 \n",
       "11 Other                                        126010.0000  262029.70 \n",
       "10 Email from a friend or family                 70500.7400  204324.33 \n",
       "3  Online newspapers or news sites              624103.5000 2528062.80 \n",
       "2  Social media posts from news orgs, magazines 284838.6000 1473305.60 \n",
       "4  Online magazine on current events             23680.7000  238619.20 \n",
       "1  Social media posts from users/influencers    117321.9000 1323590.30 \n",
       "9  Online video sharing platforms                21925.0300  406911.99 \n",
       "6  Online encyclopedia or repository              4593.5750  132301.74 \n",
       "8  Podcasts                                       1603.7790  153755.46 \n",
       "7  Blogs                                           569.1014   56936.35 \n",
       "   trust_pc   \n",
       "5  0.329819827\n",
       "11 0.324734815\n",
       "10 0.256529508\n",
       "3  0.197991933\n",
       "2  0.162010943\n",
       "4  0.090281010\n",
       "1  0.081421963\n",
       "9  0.051126719\n",
       "6  0.033555385\n",
       "8  0.010323036\n",
       "7  0.009896477"
      ]
     },
     "metadata": {},
     "output_type": "display_data"
    }
   ],
   "source": [
    "#Trusted sources\n",
    "Trustedsource=raw %>%\n",
    "    select(pumfid,pers_wgt,fc_05a,\tfc_05b,\tfc_05c,\tfc_05d,\tfc_05e,\tfc_05f,\tfc_05g,\tfc_05h,\tfc_05i,\tfc_05j,\tfc_05k,\tfc_05l,fc_20g,fc_10) \n",
    "  \n",
    "Trustedsource$trust_ind=cut(Trustedsource$fc_20g,c(0,1,Inf), c(1,0))\n",
    "Trustedsource$nock_ind=cut(Trustedsource$fc_10,c(0,3,5,Inf), c(0,1,0))\n",
    "  \n",
    "svy_data_all = svydesign(id=~pumfid, weights=~pers_wgt, survey.lonely.psu = \"adjust\", data=Trustedsource)\n",
    "svy_data=subset(svy_data_all,nock_ind==1&fc_05a==1)\n",
    "r1=svytable(~factor(fc_05a)+trust_ind,design =svy_data)\n",
    " \n",
    "\n",
    "svy_data=subset(svy_data_all,nock_ind==1&fc_05b==1)\n",
    "r2=svytable(~factor(fc_05b)+trust_ind,design =svy_data)\n",
    "\n",
    "svy_data=subset(svy_data_all,nock_ind==1&fc_05c==1)\n",
    "r3=svytable(~factor(fc_05c)+trust_ind,design =svy_data)\n",
    "\n",
    "svy_data=subset(svy_data_all,nock_ind==1&fc_05d==1)\n",
    "r4=svytable(~factor(fc_05d)+trust_ind,design =svy_data)\n",
    "\n",
    "svy_data=subset(svy_data_all,nock_ind==1&fc_05e==1)\n",
    "r5=svytable(~factor(fc_05e)+trust_ind,design =svy_data)\n",
    "\n",
    "svy_data=subset(svy_data_all,nock_ind==1&fc_05f==1)\n",
    "r6=svytable(~factor(fc_05f)+trust_ind,design =svy_data)\n",
    "\n",
    "svy_data=subset(svy_data_all,nock_ind==1&fc_05g==1)\n",
    "r7=svytable(~factor(fc_05g)+trust_ind,design =svy_data)\n",
    "\n",
    "svy_data=subset(svy_data_all,nock_ind==1&fc_05h==1)\n",
    "r8=svytable(~factor(fc_05h)+trust_ind,design =svy_data)\n",
    "\n",
    "svy_data=subset(svy_data_all,nock_ind==1&fc_05i==1)\n",
    "r9=svytable(~factor(fc_05i)+trust_ind,design =svy_data)\n",
    "\n",
    "\n",
    "svy_data=subset(svy_data_all,nock_ind==1&fc_05j==1)\n",
    "r10=svytable(~factor(fc_05j)+trust_ind,design =svy_data)\n",
    "\n",
    "svy_data=subset(svy_data_all,nock_ind==1&fc_05k==1)\n",
    "r11=svytable(~factor(fc_05k)+trust_ind,design =svy_data)\n",
    "\n",
    "ts_cmpr=data.frame(\"Source\"=c(\"Social media posts from users/influencers\",\n",
    "              \"Social media posts from news orgs, magazines\",\n",
    "              \"Online newspapers or news sites\",\n",
    "              \"Online magazine on current events\",\n",
    "              \"Online forums\",\n",
    "              \"Online encyclopedia or repository\",\n",
    "              \"Blogs\",\n",
    "              \"Podcasts\",\n",
    "              \"Online video sharing platforms\",\n",
    "              \"Email from a friend or family\",\n",
    "              \"Other\"),\n",
    "\"Trusted%\"=c(117321.9,284838.6,624103.5,23680.7,57498.15,4593.575,569.1014,1603.779,21925.03,70500.74,126010),\n",
    "\"NotTrusted%\"=c(1323590.3,1473305.6,2528062.8,238619.2,116833.85,132301.742,56936.3542,153755.463,406911.99,204324.33,262029.7))\n",
    "\n",
    "ts_cmpr$trust_pc=ts_cmpr$trust_pc=ts_cmpr$Trusted./(ts_cmpr$Trusted.+ts_cmpr$NotTrusted.)\n",
    "ts_cmpr=ts_cmpr[order(ts_cmpr$trust_pc,decreasing = TRUE),]\n",
    "ts_cmpr$Source=factor(ts_cmpr$Source, levels =ts_cmpr$Source)\n",
    "ts_cmpr"
   ]
  },
  {
   "attachments": {
    "image-2.png": {
     "image/png": "[encoded data removed]"
    }
   },
   "cell_type": "markdown",
   "id": "delayed-preference",
   "metadata": {},
   "source": [
    "![image-2.png](attachment:image-2.png) "
   ]
  },
  {
   "attachments": {
    "image-2.png": {
     "image/png": "[encoded data removed]"
    }
   },
   "cell_type": "markdown",
   "id": "hazardous-schema",
   "metadata": {},
   "source": [
    "## <center><span style=\"color:darkorange\"> Mental health based on Socio economic status during the pandemic</center> </span>\n",
    "The mental health of the canadian population from the survey: \n",
    "![image-2.png](attachment:image-2.png) \n"
   ]
  },
  {
   "cell_type": "code",
   "execution_count": 42,
   "id": "auburn-irish",
   "metadata": {},
   "outputs": [],
   "source": [
    "analysis_mentalhealth_data=raw %>%\n",
    "  select(pumfid,\n",
    "         pers_wgt,\n",
    "         agegrp,\n",
    "         sex,\n",
    "         rururb,\n",
    "         immigrnc,\n",
    "         marstatc,\n",
    "         hhldsizc,\n",
    "         peduc_lc,\n",
    "         pempstc,\n",
    "         mh_30)"
   ]
  },
  {
   "cell_type": "code",
   "execution_count": 43,
   "id": "cooperative-suspension",
   "metadata": {},
   "outputs": [
    {
     "data": {
      "text/plain": [
       "\n",
       "   1    2    3    4    5    9 \n",
       "1048 1463 1170  450   82    5 "
      ]
     },
     "metadata": {},
     "output_type": "display_data"
    },
    {
     "data": {
      "text/html": [
       "<table>\n",
       "<thead><tr><th></th><th scope=col>2.5 %</th><th scope=col>97.5 %</th></tr></thead>\n",
       "<tbody>\n",
       "\t<tr><th scope=row>mh_ind1</th><td> 0.8177117146</td><td>0.859706075  </td></tr>\n",
       "\t<tr><th scope=row>mh_ind0</th><td> 0.1391443486</td><td>0.181084829  </td></tr>\n",
       "\t<tr><th scope=row>mh_ind9</th><td>-0.0001721429</td><td>0.002525175  </td></tr>\n",
       "</tbody>\n",
       "</table>\n"
      ],
      "text/latex": [
       "\\begin{tabular}{r|ll}\n",
       "  & 2.5 \\% & 97.5 \\%\\\\\n",
       "\\hline\n",
       "\tmh\\_ind1 &  0.8177117146 & 0.859706075  \\\\\n",
       "\tmh\\_ind0 &  0.1391443486 & 0.181084829  \\\\\n",
       "\tmh\\_ind9 & -0.0001721429 & 0.002525175  \\\\\n",
       "\\end{tabular}\n"
      ],
      "text/markdown": [
       "\n",
       "| <!--/--> | 2.5 % | 97.5 % |\n",
       "|---|---|---|\n",
       "| mh_ind1 |  0.8177117146 | 0.859706075   |\n",
       "| mh_ind0 |  0.1391443486 | 0.181084829   |\n",
       "| mh_ind9 | -0.0001721429 | 0.002525175   |\n",
       "\n"
      ],
      "text/plain": [
       "        2.5 %         97.5 %     \n",
       "mh_ind1  0.8177117146 0.859706075\n",
       "mh_ind0  0.1391443486 0.181084829\n",
       "mh_ind9 -0.0001721429 0.002525175"
      ]
     },
     "metadata": {},
     "output_type": "display_data"
    }
   ],
   "source": [
    "#summary(analysis_mentalhealth_data)\n",
    "table(analysis_mentalhealth_data$mh_30)\n",
    "#Create mental health indicator . Good, Very good, Excellent --> 1\n",
    "analysis_mentalhealth_data$mh_ind=cut(analysis_mentalhealth_data$mh_30,c(0,3,5,Inf), c(1,0,9))\n",
    "svy_data_all = svydesign(id=~pumfid, weights=~pers_wgt, survey.lonely.psu = \"adjust\", data=analysis_mentalhealth_data)\n",
    "svy_data = subset(svy_data_all ,mh_ind%in%c(1,0))\n",
    "#summary(svy_data)\n",
    "# Univariate Analysis\n",
    "mental_health=svymean(~mh_ind,design =svy_data_all)\n",
    "#barplot(mental_health,beside=TRUE,legend.text = F, \n",
    "#        xlab=\"Mental Health\", col=c(\"orange\",\"darkred\",\"white\"),ylim=c(0,1),\n",
    "#        names.arg=c(\"Excellent~Good\",'Fair/Poor','Other'))\n",
    "confint(mental_health)"
   ]
  },
  {
   "cell_type": "code",
   "execution_count": 44,
   "id": "alpha-possible",
   "metadata": {
    "collapsed": true
   },
   "outputs": [
    {
     "data": {
      "text/plain": [
       "      mh_ind\n",
       "agegrp          1          0          9\n",
       "     1 3286912.58 1058477.26       0.00\n",
       "     2 3881139.32 1419101.84       0.00\n",
       "     3 4224246.03  813072.97       0.00\n",
       "     4 3912542.12  767411.21       0.00\n",
       "     5 4611518.72  549454.54       0.00\n",
       "     6 4283027.37  304828.35       0.00\n",
       "     7 1923534.25   74676.96       0.00"
      ]
     },
     "metadata": {},
     "output_type": "display_data"
    },
    {
     "data": {
      "text/plain": [
       "\n",
       "\tDesign-based Wald test of association\n",
       "\n",
       "data:  svychisq(~agegrp + mh_ind, design = svy_data, statistic = \"adjWald\")\n",
       "F = 10.351, ndf = 6, ddf = 4207, p-value = 2.047e-11\n"
      ]
     },
     "metadata": {},
     "output_type": "display_data"
    },
    {
     "data": {
      "text/plain": [
       "\n",
       "Call:\n",
       "svyglm(formula = factor(mh_ind) ~ factor(agegrp), design = svy_data, \n",
       "    family = quasibinomial)\n",
       "\n",
       "Survey design:\n",
       "subset(svy_data_all, mh_ind %in% c(1, 0))\n",
       "\n",
       "Coefficients:\n",
       "                Estimate Std. Error t value Pr(>|t|)    \n",
       "(Intercept)      -1.1331     0.2598  -4.362 1.32e-05 ***\n",
       "factor(agegrp)2   0.1270     0.3054   0.416 0.677483    \n",
       "factor(agegrp)3  -0.5147     0.3043  -1.691 0.090895 .  \n",
       "factor(agegrp)4  -0.4958     0.3183  -1.558 0.119403    \n",
       "factor(agegrp)5  -0.9943     0.3057  -3.253 0.001153 ** \n",
       "factor(agegrp)6  -1.5095     0.3346  -4.511 6.62e-06 ***\n",
       "factor(agegrp)7  -2.1156     0.5909  -3.580 0.000347 ***\n",
       "---\n",
       "Signif. codes:  0 '***' 0.001 '**' 0.01 '*' 0.05 '.' 0.1 ' ' 1\n",
       "\n",
       "(Dispersion parameter for quasibinomial family taken to be 1.000237)\n",
       "\n",
       "Number of Fisher Scoring iterations: 5\n"
      ]
     },
     "metadata": {},
     "output_type": "display_data"
    },
    {
     "data": {
      "text/plain": [
       "\n",
       "\tDesign-based KruskalWallis test\n",
       "\n",
       "data:  factor(mh_ind) ~ factor(agegrp)\n",
       "df = 6, Chisq = 68.664, p-value = 9.828e-13\n"
      ]
     },
     "metadata": {},
     "output_type": "display_data"
    },
    {
     "data": {
      "text/plain": [
       "   mh_ind\n",
       "sex        1        0        9\n",
       "  1 13285262  2063733        0\n",
       "  2 12837658  2923290        0"
      ]
     },
     "metadata": {},
     "output_type": "display_data"
    },
    {
     "data": {
      "text/plain": [
       "\n",
       "\tDesign-based Wald test of association\n",
       "\n",
       "data:  svychisq(~sex + mh_ind, design = svy_data, statistic = \"adjWald\")\n",
       "F = 5.7015, ndf = 1, ddf = 4212, p-value = 0.01699\n"
      ]
     },
     "metadata": {},
     "output_type": "display_data"
    },
    {
     "data": {
      "image/png": "[encoded data removed]",
      "text/plain": [
       "plot without title"
      ]
     },
     "metadata": {},
     "output_type": "display_data"
    },
    {
     "data": {
      "text/plain": [
       "      mh_ind\n",
       "rururb          1          0          9\n",
       "     1  4194266.7   681098.3        0.0\n",
       "     2 21928653.7  4305924.9        0.0"
      ]
     },
     "metadata": {},
     "output_type": "display_data"
    },
    {
     "data": {
      "text/plain": [
       "\n",
       "\tDesign-based Wald test of association\n",
       "\n",
       "data:  svychisq(~rururb + mh_ind, design = svy_data, statistic = \"adjWald\")\n",
       "F = 0.73477, ndf = 1, ddf = 4212, p-value = 0.3914\n"
      ]
     },
     "metadata": {},
     "output_type": "display_data"
    },
    {
     "data": {
      "image/png": "[encoded data removed]",
      "text/plain": [
       "plot without title"
      ]
     },
     "metadata": {},
     "output_type": "display_data"
    },
    {
     "data": {
      "text/plain": [
       "                     mean     SE\n",
       "factor(immigrnc)1 0.75711 0.0129\n",
       "factor(immigrnc)2 0.24289 0.0129"
      ]
     },
     "metadata": {},
     "output_type": "display_data"
    },
    {
     "data": {
      "text/plain": [
       "        mh_ind\n",
       "immigrnc          1          0          9\n",
       "       1 19358005.3  4195622.3        0.0\n",
       "       2  6764915.1   791400.8        0.0"
      ]
     },
     "metadata": {},
     "output_type": "display_data"
    },
    {
     "data": {
      "text/plain": [
       "\n",
       "\tDesign-based Wald test of association\n",
       "\n",
       "data:  svychisq(~immigrnc + mh_ind, design = svy_data, statistic = \"adjWald\")\n",
       "F = 10.463, ndf = 1, ddf = 4212, p-value = 0.001227\n"
      ]
     },
     "metadata": {},
     "output_type": "display_data"
    },
    {
     "data": {
      "image/png": "[encoded data removed]",
      "text/plain": [
       "plot without title"
      ]
     },
     "metadata": {},
     "output_type": "display_data"
    },
    {
     "data": {
      "text/plain": [
       "\n",
       "\tDesign-based KruskalWallis test\n",
       "\n",
       "data:  factor(mh_ind) ~ factor(immigrnc)\n",
       "t = -3.2892, df = 4211, p-value = 0.001013\n",
       "alternative hypothesis: true difference in mean rank score is not equal to 0\n",
       "sample estimates:\n",
       "difference in mean rank score \n",
       "                  -0.03675996 \n"
      ]
     },
     "metadata": {},
     "output_type": "display_data"
    },
    {
     "data": {
      "text/plain": [
       "        mh_ind\n",
       "hhldsizc          1          0          9\n",
       "       1  3898318.8   963819.6        0.0\n",
       "       2 14144169.5  2253466.3        0.0\n",
       "       3  4571753.0   769634.1        0.0\n",
       "       4  2462958.0   673139.9        0.0\n",
       "       5  1045721.2   326963.3        0.0"
      ]
     },
     "metadata": {},
     "output_type": "display_data"
    },
    {
     "data": {
      "text/plain": [
       "\n",
       "\tDesign-based Wald test of association\n",
       "\n",
       "data:  svychisq(~hhldsizc + mh_ind, design = svy_data, statistic = \"adjWald\")\n",
       "F = 2.2346, ndf = 4, ddf = 4209, p-value = 0.06285\n"
      ]
     },
     "metadata": {},
     "output_type": "display_data"
    },
    {
     "data": {
      "image/png": "[encoded data removed]",
      "text/plain": [
       "plot without title"
      ]
     },
     "metadata": {},
     "output_type": "display_data"
    },
    {
     "data": {
      "text/plain": [
       "        mh_ind\n",
       "marstatc          1          0          9\n",
       "       1 13672107.7  1812149.9        0.0\n",
       "       2  3024277.6   431107.0        0.0\n",
       "       3  2896378.3   643978.5        0.0\n",
       "       4  6530156.9  2099787.7        0.0"
      ]
     },
     "metadata": {},
     "output_type": "display_data"
    },
    {
     "data": {
      "text/plain": [
       "\n",
       "\tDesign-based Wald test of association\n",
       "\n",
       "data:  svychisq(~marstatc + mh_ind, design = svy_data, statistic = \"adjWald\")\n",
       "F = 6.4596, ndf = 3, ddf = 4210, p-value = 0.0002329\n"
      ]
     },
     "metadata": {},
     "output_type": "display_data"
    },
    {
     "data": {
      "image/png": "[encoded data removed]",
      "text/plain": [
       "plot without title"
      ]
     },
     "metadata": {},
     "output_type": "display_data"
    },
    {
     "data": {
      "text/plain": [
       "\n",
       "Call:\n",
       "svyglm(formula = factor(mh_ind) ~ factor(marstatc), design = svy_data, \n",
       "    family = quasibinomial)\n",
       "\n",
       "Survey design:\n",
       "subset(svy_data_all, mh_ind %in% c(1, 0))\n",
       "\n",
       "Coefficients:\n",
       "                  Estimate Std. Error t value Pr(>|t|)    \n",
       "(Intercept)       -2.02084    0.10860 -18.609  < 2e-16 ***\n",
       "factor(marstatc)2  0.07277    0.23802   0.306   0.7598    \n",
       "factor(marstatc)3  0.51729    0.25046   2.065   0.0389 *  \n",
       "factor(marstatc)4  0.88625    0.18740   4.729 2.33e-06 ***\n",
       "---\n",
       "Signif. codes:  0 '***' 0.001 '**' 0.01 '*' 0.05 '.' 0.1 ' ' 1\n",
       "\n",
       "(Dispersion parameter for quasibinomial family taken to be 1.000237)\n",
       "\n",
       "Number of Fisher Scoring iterations: 4\n"
      ]
     },
     "metadata": {},
     "output_type": "display_data"
    },
    {
     "data": {
      "text/plain": [
       "                      mean     SE\n",
       "factor(peduc_lc)1 0.120457 0.0130\n",
       "factor(peduc_lc)2 0.270002 0.0136\n",
       "factor(peduc_lc)3 0.095084 0.0081\n",
       "factor(peduc_lc)4 0.203229 0.0098\n",
       "factor(peduc_lc)5 0.024355 0.0033\n",
       "factor(peduc_lc)6 0.194819 0.0092\n",
       "factor(peduc_lc)7 0.092054 0.0058"
      ]
     },
     "metadata": {},
     "output_type": "display_data"
    },
    {
     "data": {
      "text/plain": [
       "        mh_ind\n",
       "peduc_lc          1          0          9\n",
       "       1 2926929.10  820466.67       0.00\n",
       "       2 7009870.54 1389864.91       0.00\n",
       "       3 2531743.56  426301.85       0.00\n",
       "       4 5170111.61 1152346.49       0.00\n",
       "       5  693681.39   64003.55       0.00\n",
       "       6 5347347.58  713466.91       0.00\n",
       "       7 2443236.63  420572.74       0.00"
      ]
     },
     "metadata": {},
     "output_type": "display_data"
    },
    {
     "data": {
      "text/plain": [
       "\n",
       "\tDesign-based Wald test of association\n",
       "\n",
       "data:  svychisq(~peduc_lc + mh_ind, design = svy_data, statistic = \"adjWald\")\n",
       "F = 2.0692, ndf = 6, ddf = 4207, p-value = 0.05357\n"
      ]
     },
     "metadata": {},
     "output_type": "display_data"
    },
    {
     "data": {
      "image/png": "[encoded data removed]",
      "text/plain": [
       "plot without title"
      ]
     },
     "metadata": {},
     "output_type": "display_data"
    },
    {
     "data": {
      "text/plain": [
       "                     mean     SE\n",
       "factor(pempstc)1 0.502637 0.0141\n",
       "factor(pempstc)2 0.054996 0.0064\n",
       "factor(pempstc)3 0.026433 0.0053\n",
       "factor(pempstc)4 0.385523 0.0138\n",
       "factor(pempstc)9 0.030411 0.0060"
      ]
     },
     "metadata": {},
     "output_type": "display_data"
    },
    {
     "data": {
      "text/plain": [
       "       mh_ind\n",
       "pempstc          1          0          9\n",
       "      1 13162098.5  2474916.0        0.0\n",
       "      2  1430911.8   280021.0        0.0\n",
       "      3   662806.1   159512.6        0.0\n",
       "      4 10160816.9  1832772.3        0.0\n",
       "      9   706287.2   239801.2        0.0"
      ]
     },
     "metadata": {},
     "output_type": "display_data"
    },
    {
     "data": {
      "text/plain": [
       "\n",
       "\tDesign-based Wald test of association\n",
       "\n",
       "data:  svychisq(~pempstc + mh_ind, design = svy_data, statistic = \"adjWald\")\n",
       "F = 0.29976, ndf = 4, ddf = 4209, p-value = 0.8782\n"
      ]
     },
     "metadata": {},
     "output_type": "display_data"
    },
    {
     "data": {
      "text/html": [
       "<table>\n",
       "<thead><tr><th></th><th scope=col>2.5 %</th><th scope=col>97.5 %</th></tr></thead>\n",
       "<tbody>\n",
       "\t<tr><th scope=row>1:mh_ind1</th><td>0.81431320</td><td>0.8691410 </td></tr>\n",
       "\t<tr><th scope=row>2:mh_ind1</th><td>0.76720229</td><td>0.9054663 </td></tr>\n",
       "\t<tr><th scope=row>3:mh_ind1</th><td>0.63856906</td><td>0.9734729 </td></tr>\n",
       "\t<tr><th scope=row>4:mh_ind1</th><td>0.81222616</td><td>0.8821485 </td></tr>\n",
       "\t<tr><th scope=row>9:mh_ind1</th><td>0.55969302</td><td>0.9333750 </td></tr>\n",
       "\t<tr><th scope=row>1:mh_ind0</th><td>0.13085904</td><td>0.1856868 </td></tr>\n",
       "\t<tr><th scope=row>2:mh_ind0</th><td>0.09453372</td><td>0.2327977 </td></tr>\n",
       "\t<tr><th scope=row>3:mh_ind0</th><td>0.02652713</td><td>0.3614309 </td></tr>\n",
       "\t<tr><th scope=row>4:mh_ind0</th><td>0.11785149</td><td>0.1877738 </td></tr>\n",
       "\t<tr><th scope=row>9:mh_ind0</th><td>0.06662498</td><td>0.4403070 </td></tr>\n",
       "\t<tr><th scope=row>1:mh_ind9</th><td>0.00000000</td><td>0.0000000 </td></tr>\n",
       "\t<tr><th scope=row>2:mh_ind9</th><td>0.00000000</td><td>0.0000000 </td></tr>\n",
       "\t<tr><th scope=row>3:mh_ind9</th><td>0.00000000</td><td>0.0000000 </td></tr>\n",
       "\t<tr><th scope=row>4:mh_ind9</th><td>0.00000000</td><td>0.0000000 </td></tr>\n",
       "\t<tr><th scope=row>9:mh_ind9</th><td>0.00000000</td><td>0.0000000 </td></tr>\n",
       "</tbody>\n",
       "</table>\n"
      ],
      "text/latex": [
       "\\begin{tabular}{r|ll}\n",
       "  & 2.5 \\% & 97.5 \\%\\\\\n",
       "\\hline\n",
       "\t1:mh\\_ind1 & 0.81431320 & 0.8691410 \\\\\n",
       "\t2:mh\\_ind1 & 0.76720229 & 0.9054663 \\\\\n",
       "\t3:mh\\_ind1 & 0.63856906 & 0.9734729 \\\\\n",
       "\t4:mh\\_ind1 & 0.81222616 & 0.8821485 \\\\\n",
       "\t9:mh\\_ind1 & 0.55969302 & 0.9333750 \\\\\n",
       "\t1:mh\\_ind0 & 0.13085904 & 0.1856868 \\\\\n",
       "\t2:mh\\_ind0 & 0.09453372 & 0.2327977 \\\\\n",
       "\t3:mh\\_ind0 & 0.02652713 & 0.3614309 \\\\\n",
       "\t4:mh\\_ind0 & 0.11785149 & 0.1877738 \\\\\n",
       "\t9:mh\\_ind0 & 0.06662498 & 0.4403070 \\\\\n",
       "\t1:mh\\_ind9 & 0.00000000 & 0.0000000 \\\\\n",
       "\t2:mh\\_ind9 & 0.00000000 & 0.0000000 \\\\\n",
       "\t3:mh\\_ind9 & 0.00000000 & 0.0000000 \\\\\n",
       "\t4:mh\\_ind9 & 0.00000000 & 0.0000000 \\\\\n",
       "\t9:mh\\_ind9 & 0.00000000 & 0.0000000 \\\\\n",
       "\\end{tabular}\n"
      ],
      "text/markdown": [
       "\n",
       "| <!--/--> | 2.5 % | 97.5 % |\n",
       "|---|---|---|\n",
       "| 1:mh_ind1 | 0.81431320 | 0.8691410  |\n",
       "| 2:mh_ind1 | 0.76720229 | 0.9054663  |\n",
       "| 3:mh_ind1 | 0.63856906 | 0.9734729  |\n",
       "| 4:mh_ind1 | 0.81222616 | 0.8821485  |\n",
       "| 9:mh_ind1 | 0.55969302 | 0.9333750  |\n",
       "| 1:mh_ind0 | 0.13085904 | 0.1856868  |\n",
       "| 2:mh_ind0 | 0.09453372 | 0.2327977  |\n",
       "| 3:mh_ind0 | 0.02652713 | 0.3614309  |\n",
       "| 4:mh_ind0 | 0.11785149 | 0.1877738  |\n",
       "| 9:mh_ind0 | 0.06662498 | 0.4403070  |\n",
       "| 1:mh_ind9 | 0.00000000 | 0.0000000  |\n",
       "| 2:mh_ind9 | 0.00000000 | 0.0000000  |\n",
       "| 3:mh_ind9 | 0.00000000 | 0.0000000  |\n",
       "| 4:mh_ind9 | 0.00000000 | 0.0000000  |\n",
       "| 9:mh_ind9 | 0.00000000 | 0.0000000  |\n",
       "\n"
      ],
      "text/plain": [
       "          2.5 %      97.5 %   \n",
       "1:mh_ind1 0.81431320 0.8691410\n",
       "2:mh_ind1 0.76720229 0.9054663\n",
       "3:mh_ind1 0.63856906 0.9734729\n",
       "4:mh_ind1 0.81222616 0.8821485\n",
       "9:mh_ind1 0.55969302 0.9333750\n",
       "1:mh_ind0 0.13085904 0.1856868\n",
       "2:mh_ind0 0.09453372 0.2327977\n",
       "3:mh_ind0 0.02652713 0.3614309\n",
       "4:mh_ind0 0.11785149 0.1877738\n",
       "9:mh_ind0 0.06662498 0.4403070\n",
       "1:mh_ind9 0.00000000 0.0000000\n",
       "2:mh_ind9 0.00000000 0.0000000\n",
       "3:mh_ind9 0.00000000 0.0000000\n",
       "4:mh_ind9 0.00000000 0.0000000\n",
       "9:mh_ind9 0.00000000 0.0000000"
      ]
     },
     "metadata": {},
     "output_type": "display_data"
    },
    {
     "data": {
      "image/png": "[encoded data removed]",
      "text/plain": [
       "plot without title"
      ]
     },
     "metadata": {},
     "output_type": "display_data"
    },
    {
     "data": {
      "image/png": "[encoded data removed]",
      "text/plain": [
       "plot without title"
      ]
     },
     "metadata": {},
     "output_type": "display_data"
    }
   ],
   "source": [
    "# Bivariate analysis:1. Age group and Mental Health\n",
    "svytable(~agegrp+mh_ind,design =svy_data)\n",
    "svychisq(~agegrp+mh_ind,design =svy_data,statistic=\"adjWald\") #p-value <2.047e-11 dependent\n",
    "#svyhist(~agegrp,design =svy_data)\n",
    "barplt<-svyby(~mh_ind,~agegrp,design =svy_data, na = TRUE, svymean)\n",
    "barplot(barplt,beside=TRUE,legend.text = TRUE, \n",
    "        args.legend = list(x = \"topleft\", bty = \"n\", inset=c(-0, -.1)),\n",
    "        xlab=\"Age Group\", col=c(\"orange\",\"darkred\",\"white\"),ylim=c(0,1),\n",
    "        names.arg=c(\"15 to 24yrs\", \"25 to 34 yrs\", \"35 to 44 yrs\",'45 to 54 yrs','55 to 64 yrs','65 to 74 yrs','75+'))\n",
    "\n",
    "mh_age= (svyglm(factor(mh_ind)~factor(agegrp), family=quasibinomial, design=svy_data))\n",
    "\n",
    "summary(mh_age)\n",
    "res.aov <- svyranktest(factor(mh_ind)~factor(agegrp),design=svy_data,test=(\"KruskalWallis\"))\n",
    "res.aov\n",
    "# Bivariate analysis:2. Sex and Mental Health\n",
    "svytable(~sex+mh_ind,design =svy_data)\n",
    "svychisq(~sex+mh_ind,design =svy_data,statistic=\"adjWald\") #p-value = 0.01699\n",
    "barplt<-svyby(~mh_ind,~sex,design =svy_data, na = TRUE, svymean)\n",
    "barplot(barplt,beside=TRUE,legend.text = TRUE, \n",
    "        args.legend = list(x = \"topleft\", bty = \"n\", inset=c(-0, -.1)),\n",
    "        xlab=\"Sex\", col=c(\"orange\",\"darkred\",\"white\"),ylim=c(0,1),\n",
    "        names.arg=c(\"Male\", \"Female\"))\n",
    "res.aov <- svyranktest(factor(mh_ind)~factor(sex),design=svy_data,test=(\"KruskalWallis\"))\n",
    "\n",
    "\n",
    "# Bivariate analysis:3. Rural aand Mental Health\n",
    "svytable(~rururb+mh_ind,design =svy_data)\n",
    "svychisq(~rururb+mh_ind,design =svy_data,statistic=\"adjWald\") #p-value = 0.3914. Not dependent\n",
    "barplt<-svyby(~mh_ind,~rururb,design =svy_data, na = TRUE, svymean)\n",
    "barplot(barplt,legend.text = TRUE, beside=TRUE,\n",
    "        args.legend = list(x = \"topleft\", bty = \"n\", inset=c(-0, -.1)),\n",
    "        xlab=\"Rural and Urban\", col=c(\"orange\",\"darkred\",\"white\"),\n",
    "        names.arg=c(\"Rural\", \"Urban\"))\n",
    "\n",
    "# Bivariate analysis:4. Immigration status and Mental Health 75% are canadians, 25% are immigrants\n",
    "svymean(~factor(immigrnc),design =svy_data)\n",
    "svytable(~immigrnc+mh_ind,design =svy_data)\n",
    "svychisq(~immigrnc+mh_ind,design =svy_data,statistic=\"adjWald\") #p-value = 0.001227 . dependent\n",
    "barplt<-svyby(~mh_ind,~immigrnc,design =svy_data, na = TRUE, svymean)\n",
    "barplot(barplt,beside=TRUE,legend.text = TRUE, \n",
    "        args.legend = list(x = \"topleft\", bty = \"n\", inset=c(-0, -.1)),\n",
    "        xlab=\"Immigration status\", col=c(\"orange\",\"darkred\",\"white\"),\n",
    "        names.arg=c(\"Canadian\", \"Immigrant\"))\n",
    "res.aov <- svyranktest(factor(mh_ind)~factor(immigrnc),design=svy_data,test=(\"KruskalWallis\"))\n",
    "res.aov\n",
    "# Bivariate analysis:5. Householdsize and Mental Health\n",
    "svytable(~hhldsizc+mh_ind,design =svy_data)\n",
    "svychisq(~hhldsizc+mh_ind,design =svy_data,statistic=\"adjWald\") #p-value = 0.06285 . Not dependent\n",
    "barplt<-svyby(~mh_ind,~hhldsizc,design =svy_data, na = TRUE, svymean)\n",
    "barplot(barplt,beside=TRUE,legend.text = TRUE, \n",
    "        args.legend = list(x = \"topright\", bty = \"n\", inset=c(-0, -.1)),\n",
    "        xlab=\"Householdsize\", col=c(\"orange\",\"darkred\",\"white\"),\n",
    "        names.arg=c(\"1\", \"2\",\"3\",\"4\",\"5 +\"))\n",
    "\n",
    "# Bivariate analysis:6. Martial Status and Mental Health\n",
    "svytable(~marstatc+mh_ind,design =svy_data)\n",
    "svychisq(~marstatc+mh_ind,design =svy_data,statistic=\"adjWald\") #p-value = 4.603e-08 . Dependent\n",
    "barplt<-svyby(~mh_ind,~marstatc,design =svy_data, na = TRUE, svymean)\n",
    "barplot(barplt,beside=TRUE,legend.text = TRUE, \n",
    "        args.legend = list(x = \"topright\", bty = \"n\", inset=c(-0.01, -.1)),\n",
    "        xlab=\"Martial status\", col=c(\"orange\",\"darkred\",\"white\"),\n",
    "        names.arg=c(\"Married\", \"Living common-law\",\"Wid/Sep/Div\",\"Single, never married\"))\n",
    "\n",
    "mh_ms <- (svyglm(factor(mh_ind)~factor(marstatc),family=quasibinomial, design=svy_data))\n",
    "summary(mh_ms)\n",
    "# Bivariate analysis:7. Education and Mental Health\n",
    "svymean(~factor(peduc_lc),design =svy_data)\n",
    "svytable(~peduc_lc+mh_ind,design =svy_data)\n",
    "svychisq(~peduc_lc+mh_ind,design =svy_data,statistic=\"adjWald\") #p-value = 0.05357 Not Dependent\n",
    "barplt<-svyby(~mh_ind,~peduc_lc,design =svy_data, na = TRUE, svymean)\n",
    "barplot(barplt,beside=TRUE,legend.text = TRUE, \n",
    "        args.legend = list(x = \"topright\", bty = \"n\", inset=c(-0.01, -.1)),\n",
    "        xlab=\"Education Level\", col=c(\"orange\",\"darkred\",\"white\"),\n",
    "        names.arg=c(\"Less than HS\", \"HS diploma\",\"Cer/Dip\",\"Some College\",\"Uni Cert/Dip\",\n",
    "                    \"Bach degree\",\"above Bach\"))\n",
    "\n",
    "# Bivariate analysis:8. Mental health and employment\n",
    "svymean(~factor(pempstc),design =svy_data)\n",
    "svytable(~pempstc+mh_ind,design =svy_data)\n",
    "svychisq(~pempstc+mh_ind,design =svy_data,statistic=\"adjWald\") #p-value = 0.8782 Not Dependent\n",
    "barplt<-svyby(~mh_ind,~pempstc,design =svy_data, na = TRUE, svymean)\n",
    "confint(barplt)\n",
    "barplot(barplt,beside=TRUE,legend.text = TRUE, \n",
    "        args.legend = list(x = \"topright\", bty = \"n\", inset=c(-0, -.1)),\n",
    "        xlab=\"Employment Status\", col=c(\"orange\",\"darkred\",\"white\")) \n",
    "        #names.arg=c(\"Less than HS\", \"HS diploma\",\"Cer/Dip\",\"Some College\",\"Uni Cert/Dip\",\n",
    "                   # \"Bach degree\",\"above Bach\"))"
   ]
  },
  {
   "cell_type": "markdown",
   "id": "refined-flood",
   "metadata": {},
   "source": [
    "###  Mental health and its association with Socio Economic factors\n",
    "**Age**: Dependent (KruskalWallis test  p-value = 2.047e-11)\n",
    "\n",
    "### <span style=\"color:darkorange\"> 15 to 24yrs, 65 to 74 yrs and 75+ year group(especially aged population) reported better mental health than other groups.  </span> \n",
    "\n",
    "**Sex**: Dependent (KruskalWallis test , p-value = 0.01699)  and (KruskalWallis test , p-value = 0.01622)\n",
    "### <span style=\"color:darkorange\"> Female mental health is more affected  </span>  \n",
    "\n",
    "**Rural/Urban Status**: Not dependent (KruskalWallis test  p-value = 0.3914)\n",
    "\n",
    "**Immigration Status**: Dependent (KruskalWallis test , p-value = 0.001227)\n",
    "\n",
    "**Household size**: Not Dependent (KruskalWallis test , ddf = 4209, p-value = 0.06285)\n",
    "\n",
    "**Martial Status**: Dependent. \n",
    "### <span style=\"color:darkorange\"> Single/Never married are most affected while married people reported much better mental health  </span>  \n",
    "**Education Level** : Not Dependent. Doesn’t have a significant association with people’s mental health\n",
    "\n",
    "**Employment Status** : Not Dependent . Unemployment has not affected the mental health of the population in general.\n",
    "\n",
    "### <span style=\"color:darkorange\"> Employment, education level and Rural/urban status does not seem to have an association with mental health </span>  \n",
    "\n"
   ]
  },
  {
   "cell_type": "code",
   "execution_count": 30,
   "id": "vulnerable-balloon",
   "metadata": {
    "collapsed": true
   },
   "outputs": [
    {
     "data": {
      "text/plain": [
       "\n",
       "Call:\n",
       "svyglm(formula = factor(mh_ind) ~ factor(agegrp) + factor(sex) + \n",
       "    factor(rururb) + factor(immigrnc) + factor(marstatc) + factor(hhldsizc), \n",
       "    design = svy_data, family = quasibinomial)\n",
       "\n",
       "Survey design:\n",
       "subset(svy_data_all, mh_ind %in% c(1, 0))\n",
       "\n",
       "Coefficients:\n",
       "                  Estimate Std. Error t value Pr(>|t|)    \n",
       "(Intercept)       -1.69222    0.55747  -3.036 0.002416 ** \n",
       "factor(agegrp)2    0.24770    0.35374   0.700 0.483830    \n",
       "factor(agegrp)3   -0.28141    0.37380  -0.753 0.451601    \n",
       "factor(agegrp)4   -0.29509    0.37216  -0.793 0.427877    \n",
       "factor(agegrp)5   -0.94240    0.38781  -2.430 0.015139 *  \n",
       "factor(agegrp)6   -1.51989    0.42547  -3.572 0.000358 ***\n",
       "factor(agegrp)7   -2.19454    0.66119  -3.319 0.000911 ***\n",
       "factor(sex)2       0.41050    0.16458   2.494 0.012658 *  \n",
       "factor(rururb)2    0.20728    0.23799   0.871 0.383837    \n",
       "factor(immigrnc)2 -0.67246    0.23370  -2.877 0.004029 ** \n",
       "factor(marstatc)2 -0.40079    0.25486  -1.573 0.115891    \n",
       "factor(marstatc)3  0.83060    0.32200   2.579 0.009929 ** \n",
       "factor(marstatc)4  0.36624    0.27315   1.341 0.180052    \n",
       "factor(hhldsizc)2  0.07369    0.26027   0.283 0.777100    \n",
       "factor(hhldsizc)3 -0.33207    0.33485  -0.992 0.321404    \n",
       "factor(hhldsizc)4  0.20669    0.37537   0.551 0.581922    \n",
       "factor(hhldsizc)5  0.22519    0.53991   0.417 0.676639    \n",
       "---\n",
       "Signif. codes:  0 '***' 0.001 '**' 0.01 '*' 0.05 '.' 0.1 ' ' 1\n",
       "\n",
       "(Dispersion parameter for quasibinomial family taken to be 1.064659)\n",
       "\n",
       "Number of Fisher Scoring iterations: 5\n"
      ]
     },
     "metadata": {},
     "output_type": "display_data"
    },
    {
     "data": {
      "text/plain": [
       "\n",
       "Call:\n",
       "svyglm(formula = mh_ind ~ factor(agegrp) * factor(marstatc) * \n",
       "    factor(sex) + factor(immigrnc), design = svy_data, family = quasibinomial)\n",
       "\n",
       "Survey design:\n",
       "subset(svy_data_all, mh_ind %in% c(1, 0))\n",
       "\n",
       "Coefficients:\n",
       "                                                 Estimate Std. Error t value\n",
       "(Intercept)                                     -2.535505   1.154485  -2.196\n",
       "factor(agegrp)2                                  0.818682   1.247016   0.657\n",
       "factor(agegrp)3                                  0.820821   1.178175   0.697\n",
       "factor(agegrp)4                                  0.915097   1.190116   0.769\n",
       "factor(agegrp)5                                 -0.080696   1.203455  -0.067\n",
       "factor(agegrp)6                                 -0.002354   1.211406  -0.002\n",
       "factor(agegrp)7                                 -0.807591   1.489425  -0.542\n",
       "factor(marstatc)2                              -12.849142   1.527362  -8.413\n",
       "factor(marstatc)3                               19.319648   1.527362  12.649\n",
       "factor(marstatc)4                                1.170643   1.222513   0.958\n",
       "factor(sex)2                                     4.633181   1.682429   2.754\n",
       "factor(immigrnc)2                               -0.569155   0.225143  -2.528\n",
       "factor(agegrp)2:factor(marstatc)2               13.348832   1.716603   7.776\n",
       "factor(agegrp)3:factor(marstatc)2               11.534634   1.693521   6.811\n",
       "factor(agegrp)4:factor(marstatc)2               12.527936   1.689702   7.414\n",
       "factor(agegrp)5:factor(marstatc)2               11.462868   1.870787   6.127\n",
       "factor(agegrp)6:factor(marstatc)2               13.084198   1.798782   7.274\n",
       "factor(agegrp)7:factor(marstatc)2                0.421196   1.929562   0.218\n",
       "factor(agegrp)2:factor(marstatc)3              -33.155877   1.793621 -18.485\n",
       "factor(agegrp)3:factor(marstatc)3              -17.992708   1.678612 -10.719\n",
       "factor(agegrp)4:factor(marstatc)3              -19.435136   1.688166 -11.513\n",
       "factor(agegrp)5:factor(marstatc)3              -18.203480   1.652359 -11.017\n",
       "factor(agegrp)6:factor(marstatc)3              -19.241556   1.651721 -11.649\n",
       "factor(agegrp)7:factor(marstatc)3              -20.236814   1.958657 -10.332\n",
       "factor(agegrp)2:factor(marstatc)4               -0.479476   1.367527  -0.351\n",
       "factor(agegrp)3:factor(marstatc)4               -0.823427   1.327659  -0.620\n",
       "factor(agegrp)4:factor(marstatc)4               -0.784006   1.336765  -0.586\n",
       "factor(agegrp)5:factor(marstatc)4                0.132731   1.382017   0.096\n",
       "factor(agegrp)6:factor(marstatc)4              -13.927759   1.298783 -10.724\n",
       "factor(agegrp)7:factor(marstatc)4              -13.140592   1.655364  -7.938\n",
       "factor(agegrp)2:factor(sex)2                    -3.812686   1.787445  -2.133\n",
       "factor(agegrp)3:factor(sex)2                    -4.180075   1.730088  -2.416\n",
       "factor(agegrp)4:factor(sex)2                    -4.651421   1.740347  -2.673\n",
       "factor(agegrp)5:factor(sex)2                    -4.202306   1.737536  -2.419\n",
       "factor(agegrp)6:factor(sex)2                    -4.795003   1.795692  -2.670\n",
       "factor(agegrp)7:factor(sex)2                    -3.621855   2.096510  -1.728\n",
       "factor(marstatc)2:factor(sex)2                   8.878229   2.154290   4.121\n",
       "factor(marstatc)3:factor(sex)2                  -6.201584   2.197963  -2.822\n",
       "factor(marstatc)4:factor(sex)2                  -4.079092   1.768407  -2.307\n",
       "factor(agegrp)2:factor(marstatc)2:factor(sex)2  -9.668153   2.351808  -4.111\n",
       "factor(agegrp)3:factor(marstatc)2:factor(sex)2  -8.728944   2.356547  -3.704\n",
       "factor(agegrp)4:factor(marstatc)2:factor(sex)2  -8.716666   2.365806  -3.684\n",
       "factor(agegrp)5:factor(marstatc)2:factor(sex)2  -7.086601   2.549537  -2.780\n",
       "factor(agegrp)6:factor(marstatc)2:factor(sex)2 -21.916523   2.424129  -9.041\n",
       "factor(agegrp)7:factor(marstatc)2:factor(sex)2  -9.520061   2.673004  -3.562\n",
       "factor(agegrp)2:factor(marstatc)3:factor(sex)2  22.832515   2.608147   8.754\n",
       "factor(agegrp)3:factor(marstatc)3:factor(sex)2   5.277521   2.371318   2.226\n",
       "factor(agegrp)4:factor(marstatc)3:factor(sex)2   7.455797   2.467156   3.022\n",
       "factor(agegrp)5:factor(marstatc)3:factor(sex)2   6.173156   2.335750   2.643\n",
       "factor(agegrp)6:factor(marstatc)3:factor(sex)2   6.608295   2.372171   2.786\n",
       "factor(agegrp)7:factor(marstatc)3:factor(sex)2   5.177117   2.761461   1.875\n",
       "factor(agegrp)2:factor(marstatc)4:factor(sex)2   4.062054   1.931361   2.103\n",
       "factor(agegrp)3:factor(marstatc)4:factor(sex)2   3.903385   1.906241   2.048\n",
       "factor(agegrp)4:factor(marstatc)4:factor(sex)2   4.245526   1.939908   2.189\n",
       "factor(agegrp)5:factor(marstatc)4:factor(sex)2   2.543326   1.947785   1.306\n",
       "factor(agegrp)6:factor(marstatc)4:factor(sex)2  17.448031   1.970919   8.853\n",
       "factor(agegrp)7:factor(marstatc)4:factor(sex)2  16.878111   2.509205   6.726\n",
       "                                               Pr(>|t|)    \n",
       "(Intercept)                                    0.028131 *  \n",
       "factor(agegrp)2                                0.511531    \n",
       "factor(agegrp)3                                0.486037    \n",
       "factor(agegrp)4                                0.441988    \n",
       "factor(agegrp)5                                0.946542    \n",
       "factor(agegrp)6                                0.998449    \n",
       "factor(agegrp)7                                0.587698    \n",
       "factor(marstatc)2                               < 2e-16 ***\n",
       "factor(marstatc)3                               < 2e-16 ***\n",
       "factor(marstatc)4                              0.338335    \n",
       "factor(sex)2                                   0.005915 ** \n",
       "factor(immigrnc)2                              0.011509 *  \n",
       "factor(agegrp)2:factor(marstatc)2              9.35e-15 ***\n",
       "factor(agegrp)3:factor(marstatc)2              1.11e-11 ***\n",
       "factor(agegrp)4:factor(marstatc)2              1.47e-13 ***\n",
       "factor(agegrp)5:factor(marstatc)2              9.77e-10 ***\n",
       "factor(agegrp)6:factor(marstatc)2              4.15e-13 ***\n",
       "factor(agegrp)7:factor(marstatc)2              0.827217    \n",
       "factor(agegrp)2:factor(marstatc)3               < 2e-16 ***\n",
       "factor(agegrp)3:factor(marstatc)3               < 2e-16 ***\n",
       "factor(agegrp)4:factor(marstatc)3               < 2e-16 ***\n",
       "factor(agegrp)5:factor(marstatc)3               < 2e-16 ***\n",
       "factor(agegrp)6:factor(marstatc)3               < 2e-16 ***\n",
       "factor(agegrp)7:factor(marstatc)3               < 2e-16 ***\n",
       "factor(agegrp)2:factor(marstatc)4              0.725895    \n",
       "factor(agegrp)3:factor(marstatc)4              0.535154    \n",
       "factor(agegrp)4:factor(marstatc)4              0.557575    \n",
       "factor(agegrp)5:factor(marstatc)4              0.923492    \n",
       "factor(agegrp)6:factor(marstatc)4               < 2e-16 ***\n",
       "factor(agegrp)7:factor(marstatc)4              2.62e-15 ***\n",
       "factor(agegrp)2:factor(sex)2                   0.032980 *  \n",
       "factor(agegrp)3:factor(sex)2                   0.015730 *  \n",
       "factor(agegrp)4:factor(sex)2                   0.007554 ** \n",
       "factor(agegrp)5:factor(sex)2                   0.015626 *  \n",
       "factor(agegrp)6:factor(sex)2                   0.007608 ** \n",
       "factor(agegrp)7:factor(sex)2                   0.084141 .  \n",
       "factor(marstatc)2:factor(sex)2                 3.84e-05 ***\n",
       "factor(marstatc)3:factor(sex)2                 0.004802 ** \n",
       "factor(marstatc)4:factor(sex)2                 0.021123 *  \n",
       "factor(agegrp)2:factor(marstatc)2:factor(sex)2 4.02e-05 ***\n",
       "factor(agegrp)3:factor(marstatc)2:factor(sex)2 0.000215 ***\n",
       "factor(agegrp)4:factor(marstatc)2:factor(sex)2 0.000232 ***\n",
       "factor(agegrp)5:factor(marstatc)2:factor(sex)2 0.005468 ** \n",
       "factor(agegrp)6:factor(marstatc)2:factor(sex)2  < 2e-16 ***\n",
       "factor(agegrp)7:factor(marstatc)2:factor(sex)2 0.000373 ***\n",
       "factor(agegrp)2:factor(marstatc)3:factor(sex)2  < 2e-16 ***\n",
       "factor(agegrp)3:factor(marstatc)3:factor(sex)2 0.026097 *  \n",
       "factor(agegrp)4:factor(marstatc)3:factor(sex)2 0.002526 ** \n",
       "factor(agegrp)5:factor(marstatc)3:factor(sex)2 0.008251 ** \n",
       "factor(agegrp)6:factor(marstatc)3:factor(sex)2 0.005364 ** \n",
       "factor(agegrp)7:factor(marstatc)3:factor(sex)2 0.060894 .  \n",
       "factor(agegrp)2:factor(marstatc)4:factor(sex)2 0.035508 *  \n",
       "factor(agegrp)3:factor(marstatc)4:factor(sex)2 0.040653 *  \n",
       "factor(agegrp)4:factor(marstatc)4:factor(sex)2 0.028687 *  \n",
       "factor(agegrp)5:factor(marstatc)4:factor(sex)2 0.191709    \n",
       "factor(agegrp)6:factor(marstatc)4:factor(sex)2  < 2e-16 ***\n",
       "factor(agegrp)7:factor(marstatc)4:factor(sex)2 1.97e-11 ***\n",
       "---\n",
       "Signif. codes:  0 '***' 0.001 '**' 0.01 '*' 0.05 '.' 0.1 ' ' 1\n",
       "\n",
       "(Dispersion parameter for quasibinomial family taken to be 0.9986537)\n",
       "\n",
       "Number of Fisher Scoring iterations: 14\n"
      ]
     },
     "metadata": {},
     "output_type": "display_data"
    },
    {
     "data": {
      "text/html": [
       "0.121552719588823"
      ],
      "text/latex": [
       "0.121552719588823"
      ],
      "text/markdown": [
       "0.121552719588823"
      ],
      "text/plain": [
       "[1] 0.1215527"
      ]
     },
     "metadata": {},
     "output_type": "display_data"
    },
    {
     "data": {
      "text/html": [
       "0.148706062448884"
      ],
      "text/latex": [
       "0.148706062448884"
      ],
      "text/markdown": [
       "0.148706062448884"
      ],
      "text/plain": [
       "[1] 0.1487061"
      ]
     },
     "metadata": {},
     "output_type": "display_data"
    }
   ],
   "source": [
    "#Logistic regression\n",
    "mhlogit1 <- (svyglm(factor(mh_ind)~factor(agegrp)+\n",
    "                    factor(sex)+\n",
    "                    factor(rururb)+\n",
    "                    factor(immigrnc)+\n",
    "                    factor(marstatc)+\n",
    "                    factor(hhldsizc)\n",
    "                     ,family=quasibinomial, design=svy_data))\n",
    "summary(mhlogit1)\n",
    "mhlogit2 <- (svyglm(mh_ind~factor(agegrp)*factor(marstatc)*\n",
    "                      factor(sex)+factor(immigrnc)\n",
    "                      , family=quasibinomial, design=svy_data))\n",
    "summary(mhlogit2)\n",
    "\n",
    "\n",
    "psrsq(mhlogit1,method = c(\"Nagelkerke\"))\n",
    "psrsq(mhlogit2,method = c(\"Nagelkerke\"))"
   ]
  },
  {
   "cell_type": "markdown",
   "id": "functional-peace",
   "metadata": {},
   "source": [
    "### <span style=\"color:darkgreen\"> So, Mental health cannot be even fairly predicted with socio economic characteristics.</span>  "
   ]
  },
  {
   "attachments": {
    "image.png": {
     "image/png": "[encoded data removed]"
    }
   },
   "cell_type": "markdown",
   "id": "ongoing-diving",
   "metadata": {},
   "source": [
    "### <center><span style=\"color:darkorange\"> Impact of education level in keeping Canadians employed during pandemic  </span>\n",
    "</center>\n",
    "\n",
    "![image.png](attachment:image.png)\n"
   ]
  },
  {
   "cell_type": "code",
   "execution_count": 31,
   "id": "disturbed-delta",
   "metadata": {
    "collapsed": true
   },
   "outputs": [
    {
     "data": {
      "text/plain": [
       "\n",
       "   1    2    3    4    9 \n",
       "2068  270   86 1708   86 "
      ]
     },
     "metadata": {},
     "output_type": "display_data"
    },
    {
     "data": {
      "text/plain": [
       "emp_ind\n",
       "         1          0          9 \n",
       "18179372.5 12021127.1   946088.4 "
      ]
     },
     "metadata": {},
     "output_type": "display_data"
    },
    {
     "data": {
      "text/html": [
       "<table>\n",
       "<thead><tr><th></th><th scope=col>2.5 %</th><th scope=col>97.5 %</th></tr></thead>\n",
       "<tbody>\n",
       "\t<tr><th scope=row>Employed</th><td>0.55622896</td><td>0.61111384</td></tr>\n",
       "\t<tr><th scope=row>Unemployed</th><td>0.35897643</td><td>0.41293009</td></tr>\n",
       "\t<tr><th scope=row>Not Available</th><td>0.01857766</td><td>0.04217303</td></tr>\n",
       "</tbody>\n",
       "</table>\n"
      ],
      "text/latex": [
       "\\begin{tabular}{r|ll}\n",
       "  & 2.5 \\% & 97.5 \\%\\\\\n",
       "\\hline\n",
       "\tEmployed & 0.55622896 & 0.61111384\\\\\n",
       "\tUnemployed & 0.35897643 & 0.41293009\\\\\n",
       "\tNot Available & 0.01857766 & 0.04217303\\\\\n",
       "\\end{tabular}\n"
      ],
      "text/markdown": [
       "\n",
       "| <!--/--> | 2.5 % | 97.5 % |\n",
       "|---|---|---|\n",
       "| Employed | 0.55622896 | 0.61111384 |\n",
       "| Unemployed | 0.35897643 | 0.41293009 |\n",
       "| Not Available | 0.01857766 | 0.04217303 |\n",
       "\n"
      ],
      "text/plain": [
       "              2.5 %      97.5 %    \n",
       "Employed      0.55622896 0.61111384\n",
       "Unemployed    0.35897643 0.41293009\n",
       "Not Available 0.01857766 0.04217303"
      ]
     },
     "metadata": {},
     "output_type": "display_data"
    },
    {
     "data": {
      "text/html": [
       "<table>\n",
       "<thead><tr><th></th><th scope=col>2.5 %</th><th scope=col>97.5 %</th></tr></thead>\n",
       "<tbody>\n",
       "\t<tr><th scope=row>Less than HS</th><td>0.09485785</td><td>0.1457718 </td></tr>\n",
       "\t<tr><th scope=row>HS diploma</th><td>0.24350581</td><td>0.2966578 </td></tr>\n",
       "\t<tr><th scope=row>Cert/Dip</th><td>0.07912325</td><td>0.1108202 </td></tr>\n",
       "\t<tr><th scope=row>Some College</th><td>0.18384032</td><td>0.2222726 </td></tr>\n",
       "\t<tr><th scope=row>Uni Cert/Dip</th><td>0.01791114</td><td>0.0307417 </td></tr>\n",
       "\t<tr><th scope=row>Bach. deg</th><td>0.17722541</td><td>0.2131541 </td></tr>\n",
       "\t<tr><th scope=row>above Bach.</th><td>0.08069087</td><td>0.1034272 </td></tr>\n",
       "</tbody>\n",
       "</table>\n"
      ],
      "text/latex": [
       "\\begin{tabular}{r|ll}\n",
       "  & 2.5 \\% & 97.5 \\%\\\\\n",
       "\\hline\n",
       "\tLess than HS & 0.09485785 & 0.1457718 \\\\\n",
       "\tHS diploma & 0.24350581 & 0.2966578 \\\\\n",
       "\tCert/Dip & 0.07912325 & 0.1108202 \\\\\n",
       "\tSome College & 0.18384032 & 0.2222726 \\\\\n",
       "\tUni Cert/Dip & 0.01791114 & 0.0307417 \\\\\n",
       "\tBach. deg & 0.17722541 & 0.2131541 \\\\\n",
       "\tabove Bach. & 0.08069087 & 0.1034272 \\\\\n",
       "\\end{tabular}\n"
      ],
      "text/markdown": [
       "\n",
       "| <!--/--> | 2.5 % | 97.5 % |\n",
       "|---|---|---|\n",
       "| Less than HS | 0.09485785 | 0.1457718  |\n",
       "| HS diploma | 0.24350581 | 0.2966578  |\n",
       "| Cert/Dip | 0.07912325 | 0.1108202  |\n",
       "| Some College | 0.18384032 | 0.2222726  |\n",
       "| Uni Cert/Dip | 0.01791114 | 0.0307417  |\n",
       "| Bach. deg | 0.17722541 | 0.2131541  |\n",
       "| above Bach. | 0.08069087 | 0.1034272  |\n",
       "\n"
      ],
      "text/plain": [
       "             2.5 %      97.5 %   \n",
       "Less than HS 0.09485785 0.1457718\n",
       "HS diploma   0.24350581 0.2966578\n",
       "Cert/Dip     0.07912325 0.1108202\n",
       "Some College 0.18384032 0.2222726\n",
       "Uni Cert/Dip 0.01791114 0.0307417\n",
       "Bach. deg    0.17722541 0.2131541\n",
       "above Bach.  0.08069087 0.1034272"
      ]
     },
     "metadata": {},
     "output_type": "display_data"
    },
    {
     "data": {
      "text/plain": [
       "Independent Sampling design (with replacement)\n",
       "subset(svy_data_all, emp_ind %in% c(1, 0))\n",
       "Probabilities:\n",
       "     Min.   1st Qu.    Median      Mean   3rd Qu.      Max. \n",
       "4.970e-06 1.219e-04 2.610e-04 4.041e-04 5.153e-04 5.480e-03 \n",
       "Data variables:\n",
       " [1] \"pumfid\"   \"pers_wgt\" \"agegrp\"   \"sex\"      \"rururb\"   \"immigrnc\"\n",
       " [7] \"marstatc\" \"hhldsizc\" \"peduc_lc\" \"pempstc\"  \"emp_ind\" "
      ]
     },
     "metadata": {},
     "output_type": "display_data"
    },
    {
     "data": {
      "text/plain": [
       "        emp_ind\n",
       "peduc_lc         1         0         9\n",
       "       1 1455920.8 2205323.8       0.0\n",
       "       2 4381768.0 3780155.9       0.0\n",
       "       3 1825217.8  959625.3       0.0\n",
       "       4 3982848.9 2101290.2       0.0\n",
       "       5  421481.6  295005.5       0.0\n",
       "       6 4213827.7 1755573.8       0.0\n",
       "       7 1898307.6  924152.6       0.0"
      ]
     },
     "metadata": {},
     "output_type": "display_data"
    },
    {
     "data": {
      "text/plain": [
       "\n",
       "\tDesign-based Wald test of association\n",
       "\n",
       "data:  svychisq(~peduc_lc + emp_ind, design = svy_data, statistic = \"adjWald\")\n",
       "F = 6.1103, ndf = 6, ddf = 4126, p-value = 2.186e-06\n"
      ]
     },
     "metadata": {},
     "output_type": "display_data"
    },
    {
     "data": {
      "text/html": [
       "<table>\n",
       "<thead><tr><th></th><th scope=col>2.5 %</th><th scope=col>97.5 %</th></tr></thead>\n",
       "<tbody>\n",
       "\t<tr><th scope=row>1:emp_ind1</th><td>0.2866699</td><td>0.5086448</td></tr>\n",
       "\t<tr><th scope=row>2:emp_ind1</th><td>0.4775041</td><td>0.5962055</td></tr>\n",
       "\t<tr><th scope=row>3:emp_ind1</th><td>0.5757567</td><td>0.7350660</td></tr>\n",
       "\t<tr><th scope=row>4:emp_ind1</th><td>0.6101727</td><td>0.6990836</td></tr>\n",
       "\t<tr><th scope=row>5:emp_ind1</th><td>0.4687391</td><td>0.7077835</td></tr>\n",
       "\t<tr><th scope=row>6:emp_ind1</th><td>0.6628897</td><td>0.7489194</td></tr>\n",
       "\t<tr><th scope=row>7:emp_ind1</th><td>0.6186334</td><td>0.7265105</td></tr>\n",
       "\t<tr><th scope=row>1:emp_ind0</th><td>0.4913552</td><td>0.7133301</td></tr>\n",
       "\t<tr><th scope=row>2:emp_ind0</th><td>0.4037945</td><td>0.5224959</td></tr>\n",
       "\t<tr><th scope=row>3:emp_ind0</th><td>0.2649340</td><td>0.4242433</td></tr>\n",
       "\t<tr><th scope=row>4:emp_ind0</th><td>0.3009164</td><td>0.3898273</td></tr>\n",
       "\t<tr><th scope=row>5:emp_ind0</th><td>0.2922165</td><td>0.5312609</td></tr>\n",
       "\t<tr><th scope=row>6:emp_ind0</th><td>0.2510806</td><td>0.3371103</td></tr>\n",
       "\t<tr><th scope=row>7:emp_ind0</th><td>0.2734895</td><td>0.3813666</td></tr>\n",
       "\t<tr><th scope=row>1:emp_ind9</th><td>0.0000000</td><td>0.0000000</td></tr>\n",
       "\t<tr><th scope=row>2:emp_ind9</th><td>0.0000000</td><td>0.0000000</td></tr>\n",
       "\t<tr><th scope=row>3:emp_ind9</th><td>0.0000000</td><td>0.0000000</td></tr>\n",
       "\t<tr><th scope=row>4:emp_ind9</th><td>0.0000000</td><td>0.0000000</td></tr>\n",
       "\t<tr><th scope=row>5:emp_ind9</th><td>0.0000000</td><td>0.0000000</td></tr>\n",
       "\t<tr><th scope=row>6:emp_ind9</th><td>0.0000000</td><td>0.0000000</td></tr>\n",
       "\t<tr><th scope=row>7:emp_ind9</th><td>0.0000000</td><td>0.0000000</td></tr>\n",
       "</tbody>\n",
       "</table>\n"
      ],
      "text/latex": [
       "\\begin{tabular}{r|ll}\n",
       "  & 2.5 \\% & 97.5 \\%\\\\\n",
       "\\hline\n",
       "\t1:emp\\_ind1 & 0.2866699 & 0.5086448\\\\\n",
       "\t2:emp\\_ind1 & 0.4775041 & 0.5962055\\\\\n",
       "\t3:emp\\_ind1 & 0.5757567 & 0.7350660\\\\\n",
       "\t4:emp\\_ind1 & 0.6101727 & 0.6990836\\\\\n",
       "\t5:emp\\_ind1 & 0.4687391 & 0.7077835\\\\\n",
       "\t6:emp\\_ind1 & 0.6628897 & 0.7489194\\\\\n",
       "\t7:emp\\_ind1 & 0.6186334 & 0.7265105\\\\\n",
       "\t1:emp\\_ind0 & 0.4913552 & 0.7133301\\\\\n",
       "\t2:emp\\_ind0 & 0.4037945 & 0.5224959\\\\\n",
       "\t3:emp\\_ind0 & 0.2649340 & 0.4242433\\\\\n",
       "\t4:emp\\_ind0 & 0.3009164 & 0.3898273\\\\\n",
       "\t5:emp\\_ind0 & 0.2922165 & 0.5312609\\\\\n",
       "\t6:emp\\_ind0 & 0.2510806 & 0.3371103\\\\\n",
       "\t7:emp\\_ind0 & 0.2734895 & 0.3813666\\\\\n",
       "\t1:emp\\_ind9 & 0.0000000 & 0.0000000\\\\\n",
       "\t2:emp\\_ind9 & 0.0000000 & 0.0000000\\\\\n",
       "\t3:emp\\_ind9 & 0.0000000 & 0.0000000\\\\\n",
       "\t4:emp\\_ind9 & 0.0000000 & 0.0000000\\\\\n",
       "\t5:emp\\_ind9 & 0.0000000 & 0.0000000\\\\\n",
       "\t6:emp\\_ind9 & 0.0000000 & 0.0000000\\\\\n",
       "\t7:emp\\_ind9 & 0.0000000 & 0.0000000\\\\\n",
       "\\end{tabular}\n"
      ],
      "text/markdown": [
       "\n",
       "| <!--/--> | 2.5 % | 97.5 % |\n",
       "|---|---|---|\n",
       "| 1:emp_ind1 | 0.2866699 | 0.5086448 |\n",
       "| 2:emp_ind1 | 0.4775041 | 0.5962055 |\n",
       "| 3:emp_ind1 | 0.5757567 | 0.7350660 |\n",
       "| 4:emp_ind1 | 0.6101727 | 0.6990836 |\n",
       "| 5:emp_ind1 | 0.4687391 | 0.7077835 |\n",
       "| 6:emp_ind1 | 0.6628897 | 0.7489194 |\n",
       "| 7:emp_ind1 | 0.6186334 | 0.7265105 |\n",
       "| 1:emp_ind0 | 0.4913552 | 0.7133301 |\n",
       "| 2:emp_ind0 | 0.4037945 | 0.5224959 |\n",
       "| 3:emp_ind0 | 0.2649340 | 0.4242433 |\n",
       "| 4:emp_ind0 | 0.3009164 | 0.3898273 |\n",
       "| 5:emp_ind0 | 0.2922165 | 0.5312609 |\n",
       "| 6:emp_ind0 | 0.2510806 | 0.3371103 |\n",
       "| 7:emp_ind0 | 0.2734895 | 0.3813666 |\n",
       "| 1:emp_ind9 | 0.0000000 | 0.0000000 |\n",
       "| 2:emp_ind9 | 0.0000000 | 0.0000000 |\n",
       "| 3:emp_ind9 | 0.0000000 | 0.0000000 |\n",
       "| 4:emp_ind9 | 0.0000000 | 0.0000000 |\n",
       "| 5:emp_ind9 | 0.0000000 | 0.0000000 |\n",
       "| 6:emp_ind9 | 0.0000000 | 0.0000000 |\n",
       "| 7:emp_ind9 | 0.0000000 | 0.0000000 |\n",
       "\n"
      ],
      "text/plain": [
       "           2.5 %     97.5 %   \n",
       "1:emp_ind1 0.2866699 0.5086448\n",
       "2:emp_ind1 0.4775041 0.5962055\n",
       "3:emp_ind1 0.5757567 0.7350660\n",
       "4:emp_ind1 0.6101727 0.6990836\n",
       "5:emp_ind1 0.4687391 0.7077835\n",
       "6:emp_ind1 0.6628897 0.7489194\n",
       "7:emp_ind1 0.6186334 0.7265105\n",
       "1:emp_ind0 0.4913552 0.7133301\n",
       "2:emp_ind0 0.4037945 0.5224959\n",
       "3:emp_ind0 0.2649340 0.4242433\n",
       "4:emp_ind0 0.3009164 0.3898273\n",
       "5:emp_ind0 0.2922165 0.5312609\n",
       "6:emp_ind0 0.2510806 0.3371103\n",
       "7:emp_ind0 0.2734895 0.3813666\n",
       "1:emp_ind9 0.0000000 0.0000000\n",
       "2:emp_ind9 0.0000000 0.0000000\n",
       "3:emp_ind9 0.0000000 0.0000000\n",
       "4:emp_ind9 0.0000000 0.0000000\n",
       "5:emp_ind9 0.0000000 0.0000000\n",
       "6:emp_ind9 0.0000000 0.0000000\n",
       "7:emp_ind9 0.0000000 0.0000000"
      ]
     },
     "metadata": {},
     "output_type": "display_data"
    },
    {
     "data": {
      "text/plain": [
       "\n",
       "Call:\n",
       "svyglm(formula = emp_ind ~ factor(peduc_lc), design = svy_data, \n",
       "    family = quasibinomial)\n",
       "\n",
       "Survey design:\n",
       "subset(svy_data_all, emp_ind %in% c(1, 0))\n",
       "\n",
       "Coefficients:\n",
       "                  Estimate Std. Error t value Pr(>|t|)    \n",
       "(Intercept)         0.4152     0.2364   1.756 0.079096 .  \n",
       "factor(peduc_lc)2  -0.5629     0.2659  -2.117 0.034342 *  \n",
       "factor(peduc_lc)3  -1.0581     0.2971  -3.561 0.000373 ***\n",
       "factor(peduc_lc)4  -1.0547     0.2568  -4.107 4.09e-05 ***\n",
       "factor(peduc_lc)5  -0.7720     0.3454  -2.235 0.025449 *  \n",
       "factor(peduc_lc)6  -1.2908     0.2590  -4.984 6.47e-07 ***\n",
       "factor(peduc_lc)7  -1.1351     0.2674  -4.245 2.24e-05 ***\n",
       "---\n",
       "Signif. codes:  0 '***' 0.001 '**' 0.01 '*' 0.05 '.' 0.1 ' ' 1\n",
       "\n",
       "(Dispersion parameter for quasibinomial family taken to be 1.000242)\n",
       "\n",
       "Number of Fisher Scoring iterations: 4\n"
      ]
     },
     "metadata": {},
     "output_type": "display_data"
    },
    {
     "data": {
      "text/html": [
       "0.0530414012500327"
      ],
      "text/latex": [
       "0.0530414012500327"
      ],
      "text/markdown": [
       "0.0530414012500327"
      ],
      "text/plain": [
       "[1] 0.0530414"
      ]
     },
     "metadata": {},
     "output_type": "display_data"
    },
    {
     "ename": "ERROR",
     "evalue": "Error in summ(EMP_EDU): could not find function \"summ\"\n",
     "output_type": "error",
     "traceback": [
      "Error in summ(EMP_EDU): could not find function \"summ\"\nTraceback:\n"
     ]
    },
    {
     "data": {
      "image/png": "[encoded data removed]",
      "text/plain": [
       "plot without title"
      ]
     },
     "metadata": {},
     "output_type": "display_data"
    }
   ],
   "source": [
    "#Employment status based on SEC. Data Wrangling\n",
    "\n",
    "analysis_employment=raw %>%\n",
    "  select(pumfid,\n",
    "         pers_wgt,\n",
    "         agegrp,\n",
    "         sex,\n",
    "         rururb,\n",
    "         immigrnc,\n",
    "         marstatc,\n",
    "         hhldsizc,\n",
    "         peduc_lc,\n",
    "         pempstc)\n",
    "\n",
    "#summary(analysis_employment)\n",
    "#Filter records that has a valid employment status. Take sub population-Ignore  records with 'Not stated' code 9\n",
    "analysis_employment_data=analysis_employment \n",
    "table(analysis_employment_data$pempstc)\n",
    "#Create Employment indicator\n",
    "analysis_employment_data$emp_ind=cut(analysis_employment_data$pempstc,c(0,3,4,Inf), c(1,0,9))\n",
    "\n",
    "svy_data_all = svydesign(id=~pumfid, weights=~pers_wgt, survey.lonely.psu = \"adjust\", data=analysis_employment_data)\n",
    "svytable(~emp_ind,design =svy_data_all)\n",
    "total_emp=svymean(~emp_ind,design =svy_data_all)\n",
    "names(total_emp)=c(\"Employed\", \"Unemployed\", \"Not Available\")\n",
    "\n",
    "confint(total_emp)\n",
    "\n",
    "total_edu=svymean(~factor(peduc_lc),design =svy_data_all)\n",
    "names(total_edu)=c(\"Less than HS\", \"HS diploma\",\"Cert/Dip\",\"Some College\",\"Uni Cert/Dip\",\n",
    "                   \"Bach. deg\",\"above Bach.\")\n",
    "\n",
    "confint(total_edu)\n",
    " \n",
    "svy_data = subset(svy_data_all ,emp_ind%in%c(1,0))\n",
    "summary(svy_data)\n",
    "\n",
    "#Education and employment \n",
    "svytable(~peduc_lc+emp_ind,design =svy_data)\n",
    "svychisq(~peduc_lc+emp_ind,design =svy_data,statistic=\"adjWald\") #p-value = 2.186e-06 Dependent\n",
    "barplt<-svyby(~emp_ind,~peduc_lc,design =svy_data, na = TRUE, svymean)\n",
    "confint(barplt)\n",
    "par(las=2) # make label text perpendicular to axis\n",
    "barplot(barplt,beside=TRUE,legend.text = TRUE,cex.names=0.8,\n",
    "        args.legend = list(x = \"topleft\", bty = \"n\", inset=c(-0.01, -.1)),\n",
    "        col=c(\"darkblue\",\"red\",\"white\"),ylim=c(0,1),\n",
    "        names.arg=c(\"Less than HS\", \"HS diploma\",\"Cer/Dip\",\"Some College\",\"Uni Cert/Dip\",\n",
    "                    \"Bach degree\",\"above Bach\"))\n",
    "EMP_EDU <- (svyglm(emp_ind~factor(peduc_lc), family=quasibinomial,design=svy_data))\n",
    "summary(EMP_EDU)\n",
    "psrsq(EMP_EDU,method = c(\"Nagelkerke\"))\n",
    "summ(EMP_EDU)"
   ]
  },
  {
   "cell_type": "code",
   "execution_count": 37,
   "id": "herbal-casting",
   "metadata": {
    "collapsed": true
   },
   "outputs": [
    {
     "data": {
      "text/plain": [
       "      emp_ind\n",
       "agegrp         1         0         9\n",
       "     1 2364836.1 1783769.6       0.0\n",
       "     2 4277309.1  754076.7       0.0\n",
       "     3 4127813.4  783263.3       0.0\n",
       "     4 3637446.7 1040940.5       0.0\n",
       "     5 2894978.5 2182079.2       0.0\n",
       "     6  761108.1 3767174.1       0.0\n",
       "     7  115880.6 1709823.7       0.0"
      ]
     },
     "metadata": {},
     "output_type": "display_data"
    },
    {
     "data": {
      "text/plain": [
       "\n",
       "\tDesign-based Wald test of association\n",
       "\n",
       "data:  svychisq(~agegrp + emp_ind, design = svy_data, statistic = \"adjWald\")\n",
       "F = 80.696, ndf = 6, ddf = 4126, p-value < 2.2e-16\n"
      ]
     },
     "metadata": {},
     "output_type": "display_data"
    },
    {
     "data": {
      "image/png": "[encoded data removed]",
      "text/plain": [
       "plot without title"
      ]
     },
     "metadata": {},
     "output_type": "display_data"
    },
    {
     "data": {
      "text/plain": [
       "   emp_ind\n",
       "sex       1       0       9\n",
       "  1 9641373 5145316       0\n",
       "  2 8537999 6875811       0"
      ]
     },
     "metadata": {},
     "output_type": "display_data"
    },
    {
     "data": {
      "text/plain": [
       "\n",
       "\tDesign-based Wald test of association\n",
       "\n",
       "data:  svychisq(~sex + emp_ind, design = svy_data, statistic = \"adjWald\")\n",
       "F = 12.314, ndf = 1, ddf = 4131, p-value = 0.0004543\n"
      ]
     },
     "metadata": {},
     "output_type": "display_data"
    },
    {
     "data": {
      "image/png": "[encoded data removed]",
      "text/plain": [
       "plot without title"
      ]
     },
     "metadata": {},
     "output_type": "display_data"
    },
    {
     "data": {
      "text/plain": [
       "      emp_ind\n",
       "rururb        1        0        9\n",
       "     1  2665905  1933855        0\n",
       "     2 15513467 10087272        0"
      ]
     },
     "metadata": {},
     "output_type": "display_data"
    },
    {
     "data": {
      "text/plain": [
       "\n",
       "\tDesign-based Wald test of association\n",
       "\n",
       "data:  svychisq(~rururb + emp_ind, design = svy_data, statistic = \"adjWald\")\n",
       "F = 0.61945, ndf = 1, ddf = 4131, p-value = 0.4313\n"
      ]
     },
     "metadata": {},
     "output_type": "display_data"
    },
    {
     "data": {
      "image/png": "[encoded data removed]",
      "text/plain": [
       "plot without title"
      ]
     },
     "metadata": {},
     "output_type": "display_data"
    },
    {
     "data": {
      "text/plain": [
       "        emp_ind\n",
       "immigrnc        1        0        9\n",
       "       1 13867479  9078392        0\n",
       "       2  4311893  2942735        0"
      ]
     },
     "metadata": {},
     "output_type": "display_data"
    },
    {
     "data": {
      "text/plain": [
       "\n",
       "\tDesign-based Wald test of association\n",
       "\n",
       "data:  svychisq(~immigrnc + emp_ind, design = svy_data, statistic = \"adjWald\")\n",
       "F = 0.08123, ndf = 1, ddf = 4131, p-value = 0.7757\n"
      ]
     },
     "metadata": {},
     "output_type": "display_data"
    },
    {
     "data": {
      "image/png": "[encoded data removed]",
      "text/plain": [
       "plot without title"
      ]
     },
     "metadata": {},
     "output_type": "display_data"
    },
    {
     "data": {
      "text/plain": [
       "        emp_ind\n",
       "hhldsizc         1         0         9\n",
       "       1 2832151.0 1956639.3       0.0\n",
       "       2 9246597.6 6759964.2       0.0\n",
       "       3 3343893.7 1755499.5       0.0\n",
       "       4 1768687.8 1256861.7       0.0\n",
       "       5  988042.3  292162.4       0.0"
      ]
     },
     "metadata": {},
     "output_type": "display_data"
    },
    {
     "data": {
      "text/plain": [
       "\n",
       "\tDesign-based Wald test of association\n",
       "\n",
       "data:  svychisq(~hhldsizc + emp_ind, design = svy_data, statistic = \"adjWald\")\n",
       "F = 1.6076, ndf = 4, ddf = 4128, p-value = 0.1694\n"
      ]
     },
     "metadata": {},
     "output_type": "display_data"
    },
    {
     "data": {
      "image/png": "[encoded data removed]",
      "text/plain": [
       "plot without title"
      ]
     },
     "metadata": {},
     "output_type": "display_data"
    },
    {
     "data": {
      "text/plain": [
       "        emp_ind\n",
       "marstatc         1         0         9\n",
       "       1 8911160.2 6286505.7       0.0\n",
       "       2 2406674.9  978677.8       0.0\n",
       "       3 1376508.9 1894457.8       0.0\n",
       "       4 5485028.4 2861485.8       0.0"
      ]
     },
     "metadata": {},
     "output_type": "display_data"
    },
    {
     "data": {
      "text/plain": [
       "\n",
       "\tDesign-based Wald test of association\n",
       "\n",
       "data:  svychisq(~marstatc + emp_ind, design = svy_data, statistic = \"adjWald\")\n",
       "F = 12.387, ndf = 3, ddf = 4129, p-value = 4.603e-08\n"
      ]
     },
     "metadata": {},
     "output_type": "display_data"
    },
    {
     "data": {
      "image/png": "[encoded data removed]",
      "text/plain": [
       "plot without title"
      ]
     },
     "metadata": {},
     "output_type": "display_data"
    },
    {
     "data": {
      "image/png": "[encoded data removed]",
      "text/plain": [
       "plot without title"
      ]
     },
     "metadata": {},
     "output_type": "display_data"
    }
   ],
   "source": [
    "# Bivariate analysis. \n",
    "\n",
    "age=svymean(~factor(agegrp),design =svy_data_all)\n",
    "barplot(age,beside=TRUE,legend.text = F, \n",
    "        #args.legend = list(x = \"topright\", bty = \"n\", inset=c(-0.1, -.1)),\n",
    "        xlab=\"Employment Status\", \n",
    "        ylab=\"Proportion\",ylim=c(0,1))\n",
    "\n",
    "# Bivariate analysis:1. Age group and employment\n",
    "svytable(~agegrp+emp_ind,design =svy_data)\n",
    "svychisq(~agegrp+emp_ind,design =svy_data,statistic=\"adjWald\") #p-value < 2.2e-16 dependent\n",
    "#svyhist(~agegrp,design =svy_data)\n",
    "barplt<-svyby(~emp_ind,~agegrp,design =svy_data, na = TRUE, svymean)\n",
    "barplot(barplt,beside=TRUE,legend.text = TRUE, \n",
    "        args.legend = list(x = \"topleft\", bty = \"n\", inset=c(-0.1, -.1)),\n",
    "        xlab=\"Age Group\", col=c(\"darkblue\",\"red\",\"white\"),\n",
    "        names.arg=c(\"15 to 24yrs\", \"25 to 34 yrs\", \"35 to 44 yrs\",'45 to 54 yrs','55 to 64 yrs','65 to 74 yrs','75+'))\n",
    " \n",
    "\n",
    "\n",
    "# Bivariate analysis:2. Sex and employment\n",
    "svytable(~sex+emp_ind,design =svy_data)\n",
    "svychisq(~sex+emp_ind,design =svy_data,statistic=\"adjWald\") #p-value = 0.0005213\n",
    "barplt<-svyby(~emp_ind,~sex,design =svy_data, na = TRUE, svymean)\n",
    "barplot(barplt,beside=TRUE,legend.text = TRUE, \n",
    "        args.legend = list(x = \"topleft\", bty = \"n\", inset=c(+0.2, -.1)),\n",
    "        xlab=\"Sex\", col=c(\"darkblue\",\"red\",\"white\"),\n",
    "        names.arg=c(\"Male\", \"Female\"))\n",
    "\n",
    "\n",
    "# Bivariate analysis:3. Rural and Urban \n",
    "svytable(~rururb+emp_ind,design =svy_data)\n",
    "svychisq(~rururb+emp_ind,design =svy_data,statistic=\"adjWald\") #p-value = 0.4335 . Not dependent\n",
    "barplt<-svyby(~emp_ind,~rururb,design =svy_data, na = TRUE, svymean)\n",
    "barplot(barplt,beside=TRUE,legend.text = TRUE, \n",
    "        args.legend = list(x = \"topleft\", bty = \"n\", inset=c(0, -.1)),\n",
    "        xlab=\"Rural and Urban\", col=c(\"darkblue\",\"red\",\"white\"),\n",
    "        names.arg=c(\"Rural\", \"Urban\"))\n",
    "\n",
    "# Bivariate analysis:4. Immigration status and employment \n",
    "svytable(~immigrnc+emp_ind,design =svy_data)\n",
    "svychisq(~immigrnc+emp_ind,design =svy_data,statistic=\"adjWald\") #p-value =  0.7757 . Not dependent\n",
    "barplt<-svyby(~emp_ind,~immigrnc,design =svy_data, na = TRUE, svymean)\n",
    "barplot(barplt,beside=TRUE,legend.text = TRUE, \n",
    "        args.legend = list(x = \"topleft\", bty = \"n\", inset=c(+0.2, -.1)),\n",
    "        xlab=\"Immigration status\", col=c(\"darkblue\",\"red\",\"white\"),\n",
    "        names.arg=c(\"Canadian\", \"Immigrant\"))\n",
    "\n",
    "# Bivariate analysis:5. Householdsize and employment \n",
    "svytable(~hhldsizc+emp_ind,design =svy_data)\n",
    "svychisq(~hhldsizc+emp_ind,design =svy_data,statistic=\"adjWald\") #p-value =  0.1694 . Not dependent\n",
    "barplt<-svyby(~emp_ind,~hhldsizc,design =svy_data, na = TRUE, svymean)\n",
    "barplot(barplt,beside=TRUE,legend.text = TRUE, \n",
    "        args.legend = list(x = \"topleft\", bty = \"n\", inset=c(-0.1, -.1)),\n",
    "        xlab=\"Householdsize\", col=c(\"darkblue\",\"red\",\"white\"),\n",
    "        names.arg=c(\"1\", \"2\",\"3\",\"4\",\"5 +\"))\n",
    "\n",
    "# Bivariate analysis:6. Martial Status and employment \n",
    "svytable(~marstatc+emp_ind,design =svy_data)\n",
    "svychisq(~marstatc+emp_ind,design =svy_data,statistic=\"adjWald\") #p-value = 4.603e-08 . Dependent\n",
    "barplt<-svyby(~emp_ind,~marstatc,design =svy_data, na = TRUE, svymean)\n",
    "barplot(barplt,beside=TRUE,legend.text = TRUE, \n",
    "        args.legend = list(x = \"topleft\", bty = \"n\", inset=c(-0.01, -.1)),\n",
    "        xlab=\"Martial status\", col=c(\"darkblue\",\"red\",\"white\"),\n",
    "        names.arg=c(\"Married\", \"Living common-law\",\"Wid/Sep/Div\",\"Single, never married\"))\n",
    "\n"
   ]
  },
  {
   "cell_type": "code",
   "execution_count": 33,
   "id": "minimal-indication",
   "metadata": {
    "collapsed": true
   },
   "outputs": [
    {
     "data": {
      "text/plain": [
       "\n",
       "Call:\n",
       "svyglm(formula = factor(emp_ind) ~ factor(agegrp) + factor(sex) + \n",
       "    factor(immigrnc) + factor(marstatc) + factor(peduc_lc), design = svy_data, \n",
       "    family = quasibinomial)\n",
       "\n",
       "Survey design:\n",
       "subset(svy_data_all, emp_ind %in% c(1, 0))\n",
       "\n",
       "Coefficients:\n",
       "                  Estimate Std. Error t value Pr(>|t|)    \n",
       "(Intercept)       -0.48799    0.40832  -1.195 0.232108    \n",
       "factor(agegrp)2   -0.95493    0.33131  -2.882 0.003969 ** \n",
       "factor(agegrp)3   -0.85771    0.32909  -2.606 0.009187 ** \n",
       "factor(agegrp)4   -0.47163    0.33304  -1.416 0.156803    \n",
       "factor(agegrp)5    0.51508    0.31600   1.630 0.103178    \n",
       "factor(agegrp)6    2.34723    0.33984   6.907 5.71e-12 ***\n",
       "factor(agegrp)7    3.45599    0.47187   7.324 2.88e-13 ***\n",
       "factor(sex)2       0.53372    0.14795   3.608 0.000313 ***\n",
       "factor(immigrnc)2  0.15604    0.18406   0.848 0.396605    \n",
       "factor(marstatc)2  0.04227    0.18948   0.223 0.823479    \n",
       "factor(marstatc)3  0.07427    0.24339   0.305 0.760256    \n",
       "factor(marstatc)4  0.16612    0.18068   0.919 0.357929    \n",
       "factor(peduc_lc)2 -0.41169    0.32732  -1.258 0.208551    \n",
       "factor(peduc_lc)3 -0.78921    0.37385  -2.111 0.034828 *  \n",
       "factor(peduc_lc)4 -0.75303    0.31995  -2.354 0.018641 *  \n",
       "factor(peduc_lc)5 -0.65096    0.36885  -1.765 0.077664 .  \n",
       "factor(peduc_lc)6 -0.85445    0.31778  -2.689 0.007199 ** \n",
       "factor(peduc_lc)7 -0.87800    0.33382  -2.630 0.008565 ** \n",
       "---\n",
       "Signif. codes:  0 '***' 0.001 '**' 0.01 '*' 0.05 '.' 0.1 ' ' 1\n",
       "\n",
       "(Dispersion parameter for quasibinomial family taken to be 0.999992)\n",
       "\n",
       "Number of Fisher Scoring iterations: 5\n"
      ]
     },
     "metadata": {},
     "output_type": "display_data"
    },
    {
     "data": {
      "text/html": [
       "0.388581315758259"
      ],
      "text/latex": [
       "0.388581315758259"
      ],
      "text/markdown": [
       "0.388581315758259"
      ],
      "text/plain": [
       "[1] 0.3885813"
      ]
     },
     "metadata": {},
     "output_type": "display_data"
    },
    {
     "ename": "ERROR",
     "evalue": "Error in summ(logit1): could not find function \"summ\"\n",
     "output_type": "error",
     "traceback": [
      "Error in summ(logit1): could not find function \"summ\"\nTraceback:\n"
     ]
    }
   ],
   "source": [
    "#Logistic regression Employment vs. Unemployment\n",
    "logit1 <- (svyglm(factor(emp_ind)~factor(agegrp)+\n",
    "                    factor(sex)+\n",
    "                    #factor(rururb)+\n",
    "                    factor(immigrnc)+\n",
    "                    factor(marstatc)+\n",
    "                    #factor(hhldsizc)+\n",
    "                    factor(peduc_lc), family=quasibinomial, design=svy_data))\n",
    "summary(logit1)\n",
    "psrsq(logit1,method = c(\"Nagelkerke\")) \n",
    "summ(logit1)\n",
    "\n",
    "logit2 <- (svyglm(factor(emp_ind)~factor(agegrp)*factor(peduc_lc)+\n",
    "                    factor(sex)+\n",
    "                    factor(marstatc)*factor(hhldsizc)+\n",
    "                    factor(immigrnc)\n",
    "                    #factor(rururb)*\n",
    "                    \n",
    "                    #factor(hhldsizc)+\n",
    "                    , family=quasibinomial, design=svy_data))\n",
    "summary(logit2)\n",
    "psrsq(logit2,method = c(\"Nagelkerke\")) \n",
    "summ(logit2)"
   ]
  },
  {
   "cell_type": "markdown",
   "id": "horizontal-beach",
   "metadata": {},
   "source": [
    " \n",
    "### <span style=\"color:darkgreen\"> Though not much, there exist a Statistically Significant relationship between education and employment.  </span>\n",
    "### <span style=\"color:darkgreen\"> The odds for being employed for people with Bach or above is more compared with other. </span> \n",
    "\n",
    "### <span style=\"color:darkorange\"> But, the employment status can be better explained with SEC factors- age group, sex, immigration status, martial status(Pseudo-R²  = 0. 3885) </span>\n",
    "\n",
    "### <span style=\"color:darkorange\"> Including the interaction between 1.  agegroup and education level 2. Marital status and household status(Pseudo-R² = 0.426 </span>\n"
   ]
  },
  {
   "cell_type": "markdown",
   "id": "uniform-treatment",
   "metadata": {},
   "source": [
    " \n",
    "\n",
    "## <center> Conclusion  </center>\n",
    "# \n",
    "\n",
    "\n",
    "\n",
    "### <span style=\"color:darkgreen\">  There is a significant variation in the proportion of canadians who take precautions with respect to their main source of information </span>\n",
    "#### <span style=\"color:darkorange\">    Government, health service sources and Place of employment are effective ways to implement precautions. </span>\n",
    "\n",
    "### <span style=\"color:darkgreen\">  Mental health during the pandameic cannot be associated with the socio economic factors </span>\n",
    "    \n",
    "### <span style=\"color:darkgreen\">  While education is a factor in keeping Canadians employed during pandemic, Socio economic factors play an important role in employment status.</span>\n",
    "\n",
    "### <span style=\"color:darkgreen\">Females are more affected by unemployment and poor mental health </span>\n",
    "\n",
    "# \n",
    "# \n",
    "\n",
    "## <center> Thank you! </center>\n"
   ]
  }
 ],
 "metadata": {
  "kernelspec": {
   "display_name": "R",
   "language": "R",
   "name": "ir"
  },
  "language_info": {
   "codemirror_mode": "r",
   "file_extension": ".r",
   "mimetype": "text/x-r-source",
   "name": "R",
   "pygments_lexer": "r",
   "version": "3.6.1"
  }
 },
 "nbformat": 4,
 "nbformat_minor": 5
}
